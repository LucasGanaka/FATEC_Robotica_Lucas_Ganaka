{
  "nbformat": 4,
  "nbformat_minor": 0,
  "metadata": {
    "colab": {
      "name": "Robotica_2020.ipynb",
      "provenance": [],
      "collapsed_sections": [
        "fpxiNN1vfIIl",
        "gNgu2mkr-N91"
      ],
      "authorship_tag": "ABX9TyO9h0FIwQIvD1o5y7SV7tce",
      "include_colab_link": true
    },
    "kernelspec": {
      "name": "python3",
      "display_name": "Python 3"
    }
  },
  "cells": [
    {
      "cell_type": "markdown",
      "metadata": {
        "id": "view-in-github",
        "colab_type": "text"
      },
      "source": [
        "<a href=\"https://colab.research.google.com/github/LucasGanaka/FATEC_Robotica_Lucas_Ganaka/blob/master/Robotica_2020.ipynb\" target=\"_parent\"><img src=\"https://colab.research.google.com/assets/colab-badge.svg\" alt=\"Open In Colab\"/></a>"
      ]
    },
    {
      "cell_type": "markdown",
      "metadata": {
        "id": "iFJRsE9je8ST",
        "colab_type": "text"
      },
      "source": [
        "\n",
        "\n",
        " Disciplina: Robótica "
      ]
    },
    {
      "cell_type": "markdown",
      "metadata": {
        "id": "fpxiNN1vfIIl",
        "colab_type": "text"
      },
      "source": [
        "# **Aula 2020_08_21**"
      ]
    },
    {
      "cell_type": "code",
      "metadata": {
        "id": "EVPcKOKGfU_A",
        "colab_type": "code",
        "colab": {
          "base_uri": "https://localhost:8080/",
          "height": 34
        },
        "outputId": "0580b811-b1b8-491c-d39e-fb3633e9d51d"
      },
      "source": [
        "print (\"Hello World\")"
      ],
      "execution_count": null,
      "outputs": [
        {
          "output_type": "stream",
          "text": [
            "Hello World\n"
          ],
          "name": "stdout"
        }
      ]
    },
    {
      "cell_type": "markdown",
      "metadata": {
        "id": "gNgu2mkr-N91",
        "colab_type": "text"
      },
      "source": [
        "# **Aula 2020_08_27**"
      ]
    },
    {
      "cell_type": "markdown",
      "metadata": {
        "id": "B-H5aVGMs9XV",
        "colab_type": "text"
      },
      "source": [
        "# TUPLAS: é um conjunto que não pode ser alterado "
      ]
    },
    {
      "cell_type": "code",
      "metadata": {
        "id": "zXz-ixU5tJl2",
        "colab_type": "code",
        "colab": {
          "base_uri": "https://localhost:8080/",
          "height": 50
        },
        "outputId": "cb5dad85-8b5e-414e-8f9c-88d93aae6f31"
      },
      "source": [
        "tuplas1 = (1,2,3,\"34asv\")\n",
        "print(tuplas1[0])\n",
        "print(tuplas1[3])"
      ],
      "execution_count": null,
      "outputs": [
        {
          "output_type": "stream",
          "text": [
            "1\n",
            "34asv\n"
          ],
          "name": "stdout"
        }
      ]
    },
    {
      "cell_type": "markdown",
      "metadata": {
        "id": "lh0FSbD6t_st",
        "colab_type": "text"
      },
      "source": [
        "# DICIONARIO: é um conjunto que tem um vinculo de chave e valor. Onde a busca de valor é refenciada pela chave "
      ]
    },
    {
      "cell_type": "code",
      "metadata": {
        "id": "VWdtsjfFuUPn",
        "colab_type": "code",
        "colab": {
          "base_uri": "https://localhost:8080/",
          "height": 34
        },
        "outputId": "f1518aea-526f-4c2e-ec8e-57e45d576e9a"
      },
      "source": [
        "precoProduto = {\"arroz\":17.30,\"feijão\":12.50,\"carne\":23.90}\n",
        "\n",
        "print(precoProduto[\"arroz\"])"
      ],
      "execution_count": null,
      "outputs": [
        {
          "output_type": "stream",
          "text": [
            "17.3\n"
          ],
          "name": "stdout"
        }
      ]
    },
    {
      "cell_type": "markdown",
      "metadata": {
        "id": "EJbkJYXAw-TE",
        "colab_type": "text"
      },
      "source": [
        "1) Dada a lista L=[5,7,2,9,4,1,3], escreva um programa que imprima as seguintes informações:\n",
        "\n",
        "a)tamanho da lista\n",
        "\n",
        "b)maior valor da lista\n",
        "\n",
        "c)menor valor da lista\n",
        "\n",
        "d)soma de todos os elementos \n",
        "\n",
        "e)lista em ordem crescente\n",
        "\n",
        "f)lista em ordem decrescente "
      ]
    },
    {
      "cell_type": "code",
      "metadata": {
        "id": "b12BdGngulec",
        "colab_type": "code",
        "colab": {
          "base_uri": "https://localhost:8080/",
          "height": 118
        },
        "outputId": "14c2a0c8-cbb5-415e-cd9e-fb0fac99fd62"
      },
      "source": [
        "L = [5,7,2,9,4,1,3]\n",
        "\n",
        "print(len(L))\n",
        "print(min(L))\n",
        "print(max(L))\n",
        "print(sum(L))\n",
        "L.sort()\n",
        "print(L)\n",
        "L.reverse()\n",
        "print(L)\n"
      ],
      "execution_count": null,
      "outputs": [
        {
          "output_type": "stream",
          "text": [
            "7\n",
            "1\n",
            "9\n",
            "31\n",
            "[1, 2, 3, 4, 5, 7, 9]\n",
            "[9, 7, 5, 4, 3, 2, 1]\n"
          ],
          "name": "stdout"
        }
      ]
    },
    {
      "cell_type": "markdown",
      "metadata": {
        "id": "5-l7XNZzxrb-",
        "colab_type": "text"
      },
      "source": [
        "2)Escreva um programa que receba 2 valores de tipos inteiros X e Y, e calcule o valor de Z:\n",
        "\n",
        "Z=(X2+Y2)(X-Y)^2"
      ]
    },
    {
      "cell_type": "code",
      "metadata": {
        "id": "YfccCRaEwB8C",
        "colab_type": "code",
        "colab": {
          "base_uri": "https://localhost:8080/",
          "height": 67
        },
        "outputId": "7054ebc4-e12c-4466-db62-5b345cfc16ad"
      },
      "source": [
        "X = int(input('digite um numero inteiro: '))\n",
        "Y = int(input('digite um numero inteiro: '))\n",
        "\n",
        "Z = (X*2+Y*2)*(X-Y)^2\n",
        "print(Z)"
      ],
      "execution_count": null,
      "outputs": [
        {
          "output_type": "stream",
          "text": [
            "digite um numero inteiro: 4\n",
            "digite um numero inteiro: 2\n",
            "26\n"
          ],
          "name": "stdout"
        }
      ]
    },
    {
      "cell_type": "markdown",
      "metadata": {
        "id": "x8W-4j8Xkx8Q",
        "colab_type": "text"
      },
      "source": [
        "# **Aula 2020_08_27**\n",
        "\n"
      ]
    },
    {
      "cell_type": "markdown",
      "metadata": {
        "id": "irFt6AXQ2SCY",
        "colab_type": "text"
      },
      "source": [
        "# Criar uma imagem digital "
      ]
    },
    {
      "cell_type": "code",
      "metadata": {
        "id": "9u2GiHVGmD7I",
        "colab_type": "code",
        "colab": {
          "base_uri": "https://localhost:8080/",
          "height": 34
        },
        "outputId": "457d52e8-b46f-4b1f-a261-c2fb59a09827"
      },
      "source": [
        "import cv2\n",
        "import numpy as np\n",
        "\n",
        "altura = 100\n",
        "largura = 100\n",
        "img = np.zeros ([altura,largura,3])\n",
        "\n",
        "for py in range(0,altura):\n",
        "  for px in range(0,largura):\n",
        "    img[py][px][0] = 0 #cor azul\n",
        "    img[py][px][1] = 255 #cor verde\n",
        "    img[py][px][2] = 0 #cor vermelho\n",
        "\n",
        "cv2.imwrite(\"color_img.png\",img)"
      ],
      "execution_count": null,
      "outputs": [
        {
          "output_type": "execute_result",
          "data": {
            "text/plain": [
              "True"
            ]
          },
          "metadata": {
            "tags": []
          },
          "execution_count": 10
        }
      ]
    },
    {
      "cell_type": "code",
      "metadata": {
        "id": "A8aG6Ek-BpHq",
        "colab_type": "code",
        "colab": {}
      },
      "source": [
        "Diagonal "
      ],
      "execution_count": null,
      "outputs": []
    },
    {
      "cell_type": "code",
      "metadata": {
        "id": "4jVue7IWoYLo",
        "colab_type": "code",
        "colab": {
          "base_uri": "https://localhost:8080/",
          "height": 34
        },
        "outputId": "25c30005-3fb1-47d7-fb6e-8feaf5735c6e"
      },
      "source": [
        "import cv2\n",
        "import numpy as np\n",
        "\n",
        "altura = 100\n",
        "largura = 100\n",
        "img = np.zeros ([altura,largura,3])\n",
        "\n",
        "for py in range(0,altura):\n",
        "  for px in range(0,largura):\n",
        "    if py==px:\n",
        "      img[py][px][0] = 0 #cor azul\n",
        "      img[py][px][1] = 0 #cor verde\n",
        "      img[py][px][2] = 0 #cor vermelho\n",
        "    else:\n",
        "      img[py][px][0] = 0 #cor azul\n",
        "      img[py][px][1] = 255 #cor verde\n",
        "      img[py][px][2] = 0 #cor vermelho\n",
        "\n",
        "cv2.imwrite(\"color_img.png\",img)"
      ],
      "execution_count": null,
      "outputs": [
        {
          "output_type": "execute_result",
          "data": {
            "text/plain": [
              "True"
            ]
          },
          "metadata": {
            "tags": []
          },
          "execution_count": 7
        }
      ]
    },
    {
      "cell_type": "code",
      "metadata": {
        "id": "4q-E29LSqi9a",
        "colab_type": "code",
        "colab": {
          "base_uri": "https://localhost:8080/",
          "height": 34
        },
        "outputId": "7aad4357-e212-4590-a83d-c32fd680406c"
      },
      "source": [
        "import cv2\n",
        "import numpy as np\n",
        "\n",
        "altura = 10\n",
        "largura = 10\n",
        "img = np.zeros ([altura,largura,3])\n",
        "\n",
        "for py in range(0,altura):\n",
        "  for px in range(0,largura):\n",
        "    if py==px:\n",
        "      img[py][px][0] = 0 #cor azul\n",
        "      img[py][px][1] = 0 #cor verde\n",
        "      img[py][px][2] = 0 #cor vermelho\n",
        "    else:\n",
        "      img[py][px][0] = 0 #cor azul\n",
        "      img[py][px][1] = 255 #cor verde\n",
        "      img[py][px][2] = 0 #cor vermelho\n",
        "\n",
        "cv2.imwrite(\"color_img.png\",img)"
      ],
      "execution_count": null,
      "outputs": [
        {
          "output_type": "execute_result",
          "data": {
            "text/plain": [
              "True"
            ]
          },
          "metadata": {
            "tags": []
          },
          "execution_count": 1
        }
      ]
    },
    {
      "cell_type": "markdown",
      "metadata": {
        "id": "8SABfeajBcWs",
        "colab_type": "text"
      },
      "source": [
        "Quadrado\n"
      ]
    },
    {
      "cell_type": "code",
      "metadata": {
        "id": "F17nyZOwAVhA",
        "colab_type": "code",
        "colab": {
          "base_uri": "https://localhost:8080/",
          "height": 34
        },
        "outputId": "5d993686-b85e-4bea-9f04-4694e07c74d1"
      },
      "source": [
        "import cv2\n",
        "import numpy as np\n",
        "\n",
        "altura = 100\n",
        "largura = 100\n",
        "img = np.zeros ([altura,largura,3])\n",
        "\n",
        "for py in range(0,altura):\n",
        "  for px in range(0,largura):\n",
        "    if py>=20 and py<=80 and px>=20 and px<=80:\n",
        "      img[py][px][0] = 0 #cor azul\n",
        "      img[py][px][1] = 0 #cor verde\n",
        "      img[py][px][2] = 0 #cor vermelho\n",
        "    else:\n",
        "      img[py][px][0] = 255 #cor azul\n",
        "      img[py][px][1] = 0 #cor verde\n",
        "      img[py][px][2] = 0 #cor vermelho\n",
        "\n",
        "cv2.imwrite(\"color1_img.png\",img)"
      ],
      "execution_count": 2,
      "outputs": [
        {
          "output_type": "execute_result",
          "data": {
            "text/plain": [
              "True"
            ]
          },
          "metadata": {
            "tags": []
          },
          "execution_count": 2
        }
      ]
    },
    {
      "cell_type": "markdown",
      "metadata": {
        "id": "B0R2kyFznhO8",
        "colab_type": "text"
      },
      "source": [
        "# Ler e Mostrar uma imagem de um arquivo "
      ]
    },
    {
      "cell_type": "code",
      "metadata": {
        "id": "DZZs60SRnk4K",
        "colab_type": "code",
        "colab": {
          "base_uri": "https://localhost:8080/",
          "height": 34
        },
        "outputId": "e1b53437-28db-4640-ba7a-a5e96c7b1cab"
      },
      "source": [
        "from IPython.display import Image\n",
        "\n",
        "filename=\"color_img.png\"\n",
        "\n",
        "display(Image(filename))"
      ],
      "execution_count": null,
      "outputs": [
        {
          "output_type": "display_data",
          "data": {
            "image/png": "[encoded data removed]",
            "text/plain": [
              "<IPython.core.display.Image object>"
            ]
          },
          "metadata": {
            "tags": []
          }
        }
      ]
    },
    {
      "cell_type": "code",
      "metadata": {
        "id": "VBt63DZLr3ZG",
        "colab_type": "code",
        "colab": {
          "base_uri": "https://localhost:8080/",
          "height": 1000
        },
        "outputId": "9b188185-bf57-45d5-de90-2e03d52dcb71"
      },
      "source": [
        "import cv2\n",
        "import numpy as np\n",
        "imagem = cv2.imread(\"color_img.png\")\n",
        "altura,largura,bytesPorPixel = np.shape(imagem)\n",
        "for index in range(3):\n",
        "  if index==0:\n",
        "    print(\"Azul\")\n",
        "  elif index==1:\n",
        "    print(\"verde\")\n",
        "  else: \n",
        "    print(\"vermelho\")\n",
        "  for py in range(0,altura):\n",
        "    for px in range(0,largura):\n",
        "      print(imagem[py][px][index],'\\t',end='')\n",
        "    print(\"\\n\")\n",
        "\n"
      ],
      "execution_count": null,
      "outputs": [
        {
          "output_type": "stream",
          "text": [
            "Azul\n",
            "0 \t0 \t0 \t0 \t0 \t0 \t0 \t0 \t0 \t0 \t\n",
            "\n",
            "0 \t0 \t0 \t0 \t0 \t0 \t0 \t0 \t0 \t0 \t\n",
            "\n",
            "0 \t0 \t0 \t0 \t0 \t0 \t0 \t0 \t0 \t0 \t\n",
            "\n",
            "0 \t0 \t0 \t0 \t0 \t0 \t0 \t0 \t0 \t0 \t\n",
            "\n",
            "0 \t0 \t0 \t0 \t0 \t0 \t0 \t0 \t0 \t0 \t\n",
            "\n",
            "0 \t0 \t0 \t0 \t0 \t0 \t0 \t0 \t0 \t0 \t\n",
            "\n",
            "0 \t0 \t0 \t0 \t0 \t0 \t0 \t0 \t0 \t0 \t\n",
            "\n",
            "0 \t0 \t0 \t0 \t0 \t0 \t0 \t0 \t0 \t0 \t\n",
            "\n",
            "0 \t0 \t0 \t0 \t0 \t0 \t0 \t0 \t0 \t0 \t\n",
            "\n",
            "0 \t0 \t0 \t0 \t0 \t0 \t0 \t0 \t0 \t0 \t\n",
            "\n",
            "verde\n",
            "0 \t255 \t255 \t255 \t255 \t255 \t255 \t255 \t255 \t255 \t\n",
            "\n",
            "255 \t0 \t255 \t255 \t255 \t255 \t255 \t255 \t255 \t255 \t\n",
            "\n",
            "255 \t255 \t0 \t255 \t255 \t255 \t255 \t255 \t255 \t255 \t\n",
            "\n",
            "255 \t255 \t255 \t0 \t255 \t255 \t255 \t255 \t255 \t255 \t\n",
            "\n",
            "255 \t255 \t255 \t255 \t0 \t255 \t255 \t255 \t255 \t255 \t\n",
            "\n",
            "255 \t255 \t255 \t255 \t255 \t0 \t255 \t255 \t255 \t255 \t\n",
            "\n",
            "255 \t255 \t255 \t255 \t255 \t255 \t0 \t255 \t255 \t255 \t\n",
            "\n",
            "255 \t255 \t255 \t255 \t255 \t255 \t255 \t0 \t255 \t255 \t\n",
            "\n",
            "255 \t255 \t255 \t255 \t255 \t255 \t255 \t255 \t0 \t255 \t\n",
            "\n",
            "255 \t255 \t255 \t255 \t255 \t255 \t255 \t255 \t255 \t0 \t\n",
            "\n",
            "vermelho\n",
            "0 \t0 \t0 \t0 \t0 \t0 \t0 \t0 \t0 \t0 \t\n",
            "\n",
            "0 \t0 \t0 \t0 \t0 \t0 \t0 \t0 \t0 \t0 \t\n",
            "\n",
            "0 \t0 \t0 \t0 \t0 \t0 \t0 \t0 \t0 \t0 \t\n",
            "\n",
            "0 \t0 \t0 \t0 \t0 \t0 \t0 \t0 \t0 \t0 \t\n",
            "\n",
            "0 \t0 \t0 \t0 \t0 \t0 \t0 \t0 \t0 \t0 \t\n",
            "\n",
            "0 \t0 \t0 \t0 \t0 \t0 \t0 \t0 \t0 \t0 \t\n",
            "\n",
            "0 \t0 \t0 \t0 \t0 \t0 \t0 \t0 \t0 \t0 \t\n",
            "\n",
            "0 \t0 \t0 \t0 \t0 \t0 \t0 \t0 \t0 \t0 \t\n",
            "\n",
            "0 \t0 \t0 \t0 \t0 \t0 \t0 \t0 \t0 \t0 \t\n",
            "\n",
            "0 \t0 \t0 \t0 \t0 \t0 \t0 \t0 \t0 \t0 \t\n",
            "\n"
          ],
          "name": "stdout"
        }
      ]
    },
    {
      "cell_type": "code",
      "metadata": {
        "id": "gieu5zZ743cP",
        "colab_type": "code",
        "colab": {
          "base_uri": "https://localhost:8080/",
          "height": 126
        },
        "outputId": "b7963a13-d932-4347-9713-b7e7770f0e82"
      },
      "source": [
        "from IPython.display import Image\n",
        "\n",
        "filename=\"anel_1.png\"\n",
        "\n",
        "display(Image(filename))"
      ],
      "execution_count": null,
      "outputs": [
        {
          "output_type": "display_data",
          "data": {
            "image/png": "[encoded data removed]",
            "text/plain": [
              "<IPython.core.display.Image object>"
            ]
          },
          "metadata": {
            "tags": []
          }
        }
      ]
    },
    {
      "cell_type": "code",
      "metadata": {
        "id": "OnvdhRVq5aw_",
        "colab_type": "code",
        "colab": {}
      },
      "source": [
        "import cv2\n",
        "import numpy as np\n",
        "imagem = cv2.imread(\"anel_1.png\")\n",
        "altura,largura,bytesPorPixel = np.shape(imagem)\n",
        "for index in range(3):\n",
        "  if index==0:\n",
        "    print(\"Azul\")\n",
        "  elif index==1:\n",
        "    print(\"verde\")\n",
        "  else: \n",
        "    print(\"vermelho\")\n",
        "  for py in range(0,altura):\n",
        "    for px in range(0,largura):\n",
        "      print(imagem[py][px][index],'\\t',end='')\n",
        "    print(\"\\n\")"
      ],
      "execution_count": null,
      "outputs": []
    }
  ]
}