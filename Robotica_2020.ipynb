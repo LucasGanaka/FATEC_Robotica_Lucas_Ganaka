{
  "nbformat": 4,
  "nbformat_minor": 0,
  "metadata": {
    "colab": {
      "name": "Robotica_2020.ipynb",
      "provenance": [],
      "collapsed_sections": [
        "fpxiNN1vfIIl",
        "gNgu2mkr-N91"
      ],
      "authorship_tag": "ABX9TyPfBR8R7xlYg3DyxazNYROn",
      "include_colab_link": true
    },
    "kernelspec": {
      "name": "python3",
      "display_name": "Python 3"
    }
  },
  "cells": [
    {
      "cell_type": "markdown",
      "metadata": {
        "id": "view-in-github",
        "colab_type": "text"
      },
      "source": [
        "<a href=\"https://colab.research.google.com/github/LucasGanaka/FATEC_Robotica_Lucas_Ganaka/blob/master/Robotica_2020.ipynb\" target=\"_parent\"><img src=\"https://colab.research.google.com/assets/colab-badge.svg\" alt=\"Open In Colab\"/></a>"
      ]
    },
    {
      "cell_type": "markdown",
      "metadata": {
        "id": "iFJRsE9je8ST",
        "colab_type": "text"
      },
      "source": [
        "Disciplina: Robótica "
      ]
    },
    {
      "cell_type": "markdown",
      "metadata": {
        "id": "fpxiNN1vfIIl",
        "colab_type": "text"
      },
      "source": [
        "# **Aula 2020_08_21**"
      ]
    },
    {
      "cell_type": "code",
      "metadata": {
        "id": "EVPcKOKGfU_A",
        "colab_type": "code",
        "colab": {
          "base_uri": "https://localhost:8080/",
          "height": 34
        },
        "outputId": "0580b811-b1b8-491c-d39e-fb3633e9d51d"
      },
      "source": [
        "print (\"Hello World\")"
      ],
      "execution_count": null,
      "outputs": [
        {
          "output_type": "stream",
          "text": [
            "Hello World\n"
          ],
          "name": "stdout"
        }
      ]
    },
    {
      "cell_type": "markdown",
      "metadata": {
        "id": "gNgu2mkr-N91",
        "colab_type": "text"
      },
      "source": [
        "# **Aula 2020_08_27**"
      ]
    },
    {
      "cell_type": "markdown",
      "metadata": {
        "id": "B-H5aVGMs9XV",
        "colab_type": "text"
      },
      "source": [
        "# TUPLAS: \n",
        "É um conjunto que não pode ser alterado "
      ]
    },
    {
      "cell_type": "code",
      "metadata": {
        "id": "zXz-ixU5tJl2",
        "colab_type": "code",
        "colab": {
          "base_uri": "https://localhost:8080/",
          "height": 50
        },
        "outputId": "cb5dad85-8b5e-414e-8f9c-88d93aae6f31"
      },
      "source": [
        "tuplas1 = (1,2,3,\"34asv\")\n",
        "print(tuplas1[0])\n",
        "print(tuplas1[3])"
      ],
      "execution_count": null,
      "outputs": [
        {
          "output_type": "stream",
          "text": [
            "1\n",
            "34asv\n"
          ],
          "name": "stdout"
        }
      ]
    },
    {
      "cell_type": "markdown",
      "metadata": {
        "id": "lh0FSbD6t_st",
        "colab_type": "text"
      },
      "source": [
        "# DICIONARIO: \n",
        "É um conjunto que tem um vinculo de chave e valor. Onde a busca de valor é refenciada pela chave "
      ]
    },
    {
      "cell_type": "code",
      "metadata": {
        "id": "VWdtsjfFuUPn",
        "colab_type": "code",
        "colab": {
          "base_uri": "https://localhost:8080/",
          "height": 34
        },
        "outputId": "f1518aea-526f-4c2e-ec8e-57e45d576e9a"
      },
      "source": [
        "precoProduto = {\"arroz\":17.30,\"feijão\":12.50,\"carne\":23.90}\n",
        "\n",
        "print(precoProduto[\"arroz\"])"
      ],
      "execution_count": null,
      "outputs": [
        {
          "output_type": "stream",
          "text": [
            "17.3\n"
          ],
          "name": "stdout"
        }
      ]
    },
    {
      "cell_type": "markdown",
      "metadata": {
        "id": "avF7nBEJpDZ5",
        "colab_type": "text"
      },
      "source": [
        "# Exercícios\n"
      ]
    },
    {
      "cell_type": "markdown",
      "metadata": {
        "id": "EJbkJYXAw-TE",
        "colab_type": "text"
      },
      "source": [
        "1) Dada a lista L=[5,7,2,9,4,1,3], escreva um programa que imprima as seguintes informações:\n",
        "\n",
        "a)tamanho da lista\n",
        "\n",
        "b)maior valor da lista\n",
        "\n",
        "c)menor valor da lista\n",
        "\n",
        "d)soma de todos os elementos \n",
        "\n",
        "e)lista em ordem crescente\n",
        "\n",
        "f)lista em ordem decrescente "
      ]
    },
    {
      "cell_type": "code",
      "metadata": {
        "id": "b12BdGngulec",
        "colab_type": "code",
        "colab": {
          "base_uri": "https://localhost:8080/",
          "height": 118
        },
        "outputId": "14c2a0c8-cbb5-415e-cd9e-fb0fac99fd62"
      },
      "source": [
        "L = [5,7,2,9,4,1,3]\n",
        "\n",
        "print(len(L))\n",
        "print(min(L))\n",
        "print(max(L))\n",
        "print(sum(L))\n",
        "L.sort()\n",
        "print(L)\n",
        "L.reverse()\n",
        "print(L)\n"
      ],
      "execution_count": null,
      "outputs": [
        {
          "output_type": "stream",
          "text": [
            "7\n",
            "1\n",
            "9\n",
            "31\n",
            "[1, 2, 3, 4, 5, 7, 9]\n",
            "[9, 7, 5, 4, 3, 2, 1]\n"
          ],
          "name": "stdout"
        }
      ]
    },
    {
      "cell_type": "markdown",
      "metadata": {
        "id": "5-l7XNZzxrb-",
        "colab_type": "text"
      },
      "source": [
        "2)Escreva um programa que receba 2 valores de tipos inteiros X e Y, e calcule o valor de Z:\n",
        "\n",
        "Z=(X2+Y2)(X-Y)^2"
      ]
    },
    {
      "cell_type": "code",
      "metadata": {
        "id": "YfccCRaEwB8C",
        "colab_type": "code",
        "colab": {
          "base_uri": "https://localhost:8080/",
          "height": 67
        },
        "outputId": "7054ebc4-e12c-4466-db62-5b345cfc16ad"
      },
      "source": [
        "X = int(input('digite um numero inteiro: '))\n",
        "Y = int(input('digite um numero inteiro: '))\n",
        "\n",
        "Z = (X*2+Y*2)*(X-Y)^2\n",
        "print(Z)"
      ],
      "execution_count": null,
      "outputs": [
        {
          "output_type": "stream",
          "text": [
            "digite um numero inteiro: 4\n",
            "digite um numero inteiro: 2\n",
            "26\n"
          ],
          "name": "stdout"
        }
      ]
    },
    {
      "cell_type": "markdown",
      "metadata": {
        "id": "3l0ZXaWKkXMs",
        "colab_type": "text"
      },
      "source": [
        "3)Dada a tabela a seguir, crie um dicionáro que represente:                "
      ]
    },
    {
      "cell_type": "code",
      "metadata": {
        "id": "vV3jZB3XlEo7",
        "colab_type": "code",
        "colab": {
          "base_uri": "https://localhost:8080/",
          "height": 50
        },
        "outputId": "7133b2e8-89ef-4f3b-d647-f4fdc5c309b6"
      },
      "source": [
        "ProdutoPreco = {\"Salgado\":4.50,\"Lanche\":6.50,\"Suco\":3.00,\"Refrigerante\":3.50,\"Doce\":1.00}\n",
        "\n",
        "produto = input('Digite o nome do produto: ')\n",
        "\n",
        "print(ProdutoPreco[produto])"
      ],
      "execution_count": null,
      "outputs": [
        {
          "output_type": "stream",
          "text": [
            "Digite o nome do produto: Suco\n",
            "3.0\n"
          ],
          "name": "stdout"
        }
      ]
    },
    {
      "cell_type": "markdown",
      "metadata": {
        "id": "6oLXxvrL6K32",
        "colab_type": "text"
      },
      "source": [
        "4)Considere um dicionário com 5 nomes de alunos e suas notas. Escreva um programa que calcule a média dessas notas."
      ]
    },
    {
      "cell_type": "code",
      "metadata": {
        "id": "2rOlOQGz7oPp",
        "colab_type": "code",
        "colab": {
          "base_uri": "https://localhost:8080/",
          "height": 34
        },
        "outputId": "aef68e52-fce7-4d8d-fbe5-7f532a1931b2"
      },
      "source": [
        "alunosNotas = {\"Lucas\":10,\"Fulano\":4,\"Ciclano\":4,\"Beltrano\":8,\"Irineu\":9,}\n",
        "\n",
        "media = (alunosNotas[\"Lucas\"] + alunosNotas[\"Fulano\"] + alunosNotas[\"Ciclano\"] + alunosNotas[\"Beltrano\"] + alunosNotas[\"Irineu\"])/5\n",
        "\n",
        "print(media)"
      ],
      "execution_count": null,
      "outputs": [
        {
          "output_type": "stream",
          "text": [
            "7.0\n"
          ],
          "name": "stdout"
        }
      ]
    },
    {
      "cell_type": "markdown",
      "metadata": {
        "id": "SCOxkAEQ7t3A",
        "colab_type": "text"
      },
      "source": [
        "5)Faça um programa que leia 2 notas de um aluno, calcule a média e imprima aprovado ou reprovado (para ser aprovado a média deve ser no mínimo 6)"
      ]
    },
    {
      "cell_type": "code",
      "metadata": {
        "id": "Gp7V2lDL785u",
        "colab_type": "code",
        "colab": {
          "base_uri": "https://localhost:8080/",
          "height": 84
        },
        "outputId": "735c6d80-84bc-4113-ce64-3be953a88213"
      },
      "source": [
        "nota1=int(input('digite a primeira nota: '))\n",
        "nota2=int(input('digite a segunda nota: '))\n",
        "\n",
        "media = (nota1 + nota2) / 2\n",
        "\n",
        "print(media)\n",
        "\n",
        "if media >= 6:\n",
        "  print(\"Aprovado\")\n",
        "else:\n",
        "  print(\"Reprovado\")"
      ],
      "execution_count": null,
      "outputs": [
        {
          "output_type": "stream",
          "text": [
            "digite a primeira nota: 10\n",
            "digite a segunda nota: 6\n",
            "8.0\n",
            "Aprovado\n"
          ],
          "name": "stdout"
        }
      ]
    },
    {
      "cell_type": "markdown",
      "metadata": {
        "id": "a4PfUn3e79Im",
        "colab_type": "text"
      },
      "source": [
        "6)Refaça o ex5, identifique o conceito aprovado(média superior a 6), exame(média entre 4 e 6) ou reprovado(média inferior a 4)"
      ]
    },
    {
      "cell_type": "code",
      "metadata": {
        "id": "C3qhfBF18LtQ",
        "colab_type": "code",
        "colab": {
          "base_uri": "https://localhost:8080/",
          "height": 84
        },
        "outputId": "5c15c9ee-078d-4a15-cc74-f7093f1472be"
      },
      "source": [
        "nota1=int(input('digite a primeira nota: '))\n",
        "nota2=int(input('digite a segunda nota: '))\n",
        "\n",
        "media = (nota1 + nota2) / 2\n",
        "\n",
        "print(media)\n",
        "\n",
        "if media > 6:\n",
        "  print(\"aprovado\")\n",
        "elif media < 6 and media > 4:\n",
        "  print(\"exame\")\n",
        "else:\n",
        "  print(\"reprovado\")"
      ],
      "execution_count": null,
      "outputs": [
        {
          "output_type": "stream",
          "text": [
            "digite a primeira nota: 10\n",
            "digite a segunda nota: 4\n",
            "7.0\n",
            "aprovado\n"
          ],
          "name": "stdout"
        }
      ]
    },
    {
      "cell_type": "markdown",
      "metadata": {
        "id": "Isfaf_bY8L02",
        "colab_type": "text"
      },
      "source": [
        "7)Escreva um programa para encontrar a soma S=3+6+9+...+333."
      ]
    },
    {
      "cell_type": "code",
      "metadata": {
        "id": "2sEgGxor8WB7",
        "colab_type": "code",
        "colab": {
          "base_uri": "https://localhost:8080/",
          "height": 1000
        },
        "outputId": "c9b88c2b-a79f-4d9b-fb56-6f42099293c4"
      },
      "source": [
        "s=0\n",
        "\n",
        "for i in range(3,336,3):\n",
        "  print(i)\n",
        "  s = s + i\n",
        "\n",
        "print(s)"
      ],
      "execution_count": null,
      "outputs": [
        {
          "output_type": "stream",
          "text": [
            "3\n",
            "6\n",
            "9\n",
            "12\n",
            "15\n",
            "18\n",
            "21\n",
            "24\n",
            "27\n",
            "30\n",
            "33\n",
            "36\n",
            "39\n",
            "42\n",
            "45\n",
            "48\n",
            "51\n",
            "54\n",
            "57\n",
            "60\n",
            "63\n",
            "66\n",
            "69\n",
            "72\n",
            "75\n",
            "78\n",
            "81\n",
            "84\n",
            "87\n",
            "90\n",
            "93\n",
            "96\n",
            "99\n",
            "102\n",
            "105\n",
            "108\n",
            "111\n",
            "114\n",
            "117\n",
            "120\n",
            "123\n",
            "126\n",
            "129\n",
            "132\n",
            "135\n",
            "138\n",
            "141\n",
            "144\n",
            "147\n",
            "150\n",
            "153\n",
            "156\n",
            "159\n",
            "162\n",
            "165\n",
            "168\n",
            "171\n",
            "174\n",
            "177\n",
            "180\n",
            "183\n",
            "186\n",
            "189\n",
            "192\n",
            "195\n",
            "198\n",
            "201\n",
            "204\n",
            "207\n",
            "210\n",
            "213\n",
            "216\n",
            "219\n",
            "222\n",
            "225\n",
            "228\n",
            "231\n",
            "234\n",
            "237\n",
            "240\n",
            "243\n",
            "246\n",
            "249\n",
            "252\n",
            "255\n",
            "258\n",
            "261\n",
            "264\n",
            "267\n",
            "270\n",
            "273\n",
            "276\n",
            "279\n",
            "282\n",
            "285\n",
            "288\n",
            "291\n",
            "294\n",
            "297\n",
            "300\n",
            "303\n",
            "306\n",
            "309\n",
            "312\n",
            "315\n",
            "318\n",
            "321\n",
            "324\n",
            "327\n",
            "330\n",
            "333\n",
            "18648\n"
          ],
          "name": "stdout"
        }
      ]
    },
    {
      "cell_type": "markdown",
      "metadata": {
        "id": "zZN9rA5n8WLW",
        "colab_type": "text"
      },
      "source": [
        "8)Escreva um programa que leia 10 notas e informe a média dos alunos."
      ]
    },
    {
      "cell_type": "code",
      "metadata": {
        "id": "7QBsTPBe8g7U",
        "colab_type": "code",
        "colab": {
          "base_uri": "https://localhost:8080/",
          "height": 370
        },
        "outputId": "55d366cb-c020-4455-b368-47e1b871414f"
      },
      "source": [
        "notas=[0,0,0,0,0,0,0,0,0,0]\n",
        "soma=0\n",
        "for i in range(0,10):\n",
        "  notas[i]=int(input('digite a nota: '))\n",
        "  print(notas[i])\n",
        "  soma = soma + notas[i]\n",
        "\n",
        "media = soma/10\n",
        "\n",
        "print(media)"
      ],
      "execution_count": null,
      "outputs": [
        {
          "output_type": "stream",
          "text": [
            "digite a nota: 1\n",
            "1\n",
            "digite a nota: 2\n",
            "2\n",
            "digite a nota: 3\n",
            "3\n",
            "digite a nota: 4\n",
            "4\n",
            "digite a nota: 5\n",
            "5\n",
            "digite a nota: 6\n",
            "6\n",
            "digite a nota: 7\n",
            "7\n",
            "digite a nota: 8\n",
            "8\n",
            "digite a nota: 9\n",
            "9\n",
            "digite a nota: 10\n",
            "10\n",
            "5.5\n"
          ],
          "name": "stdout"
        }
      ]
    },
    {
      "cell_type": "markdown",
      "metadata": {
        "id": "sEr-tKm28hC0",
        "colab_type": "text"
      },
      "source": [
        "9)Escreva um programa que leia um número de 1 a 10, e mostre a tabuada desse número."
      ]
    },
    {
      "cell_type": "code",
      "metadata": {
        "id": "BaaxoMMX8paM",
        "colab_type": "code",
        "colab": {
          "base_uri": "https://localhost:8080/",
          "height": 202
        },
        "outputId": "7e506014-4921-4883-f892-a92d43f566e5"
      },
      "source": [
        "numero = int(input('Digite um valor inteiro de 1 a 10: '))\n",
        "\n",
        "for i in range(1,11):\n",
        "  tabuada = numero * i\n",
        "  print(tabuada)"
      ],
      "execution_count": null,
      "outputs": [
        {
          "output_type": "stream",
          "text": [
            "Digite um valor inteiro de 1 a 10: 3\n",
            "3\n",
            "6\n",
            "9\n",
            "12\n",
            "15\n",
            "18\n",
            "21\n",
            "24\n",
            "27\n",
            "30\n"
          ],
          "name": "stdout"
        }
      ]
    },
    {
      "cell_type": "markdown",
      "metadata": {
        "id": "x8W-4j8Xkx8Q",
        "colab_type": "text"
      },
      "source": [
        "# **Aula 2020_08_27**\n",
        "\n"
      ]
    },
    {
      "cell_type": "markdown",
      "metadata": {
        "id": "irFt6AXQ2SCY",
        "colab_type": "text"
      },
      "source": [
        "# Criar uma imagem digital "
      ]
    },
    {
      "cell_type": "code",
      "metadata": {
        "id": "9u2GiHVGmD7I",
        "colab_type": "code",
        "colab": {
          "base_uri": "https://localhost:8080/",
          "height": 34
        },
        "outputId": "457d52e8-b46f-4b1f-a261-c2fb59a09827"
      },
      "source": [
        "import cv2\n",
        "import numpy as np\n",
        "\n",
        "altura = 100\n",
        "largura = 100\n",
        "img = np.zeros ([altura,largura,3])\n",
        "\n",
        "for py in range(0,altura):\n",
        "  for px in range(0,largura):\n",
        "    img[py][px][0] = 0 #cor azul\n",
        "    img[py][px][1] = 255 #cor verde\n",
        "    img[py][px][2] = 0 #cor vermelho\n",
        "\n",
        "cv2.imwrite(\"color_img.png\",img)"
      ],
      "execution_count": null,
      "outputs": [
        {
          "output_type": "execute_result",
          "data": {
            "text/plain": [
              "True"
            ]
          },
          "metadata": {
            "tags": []
          },
          "execution_count": 10
        }
      ]
    },
    {
      "cell_type": "markdown",
      "metadata": {
        "id": "BNk7NtZwo8FM",
        "colab_type": "text"
      },
      "source": [
        "**Diagonal**"
      ]
    },
    {
      "cell_type": "code",
      "metadata": {
        "id": "4jVue7IWoYLo",
        "colab_type": "code",
        "colab": {
          "base_uri": "https://localhost:8080/",
          "height": 34
        },
        "outputId": "3da9f3e9-ee73-4112-ca6a-d11e76efa7c7"
      },
      "source": [
        "import cv2\n",
        "import numpy as np\n",
        "\n",
        "altura = 100\n",
        "largura = 100\n",
        "img = np.zeros ([altura,largura,3])\n",
        "\n",
        "for py in range(0,altura):\n",
        "  for px in range(0,largura):\n",
        "    if py==px:\n",
        "      img[py][px][0] = 0 #cor azul\n",
        "      img[py][px][1] = 0 #cor verde\n",
        "      img[py][px][2] = 0 #cor vermelho\n",
        "    else:\n",
        "      img[py][px][0] = 0 #cor azul\n",
        "      img[py][px][1] = 255 #cor verde\n",
        "      img[py][px][2] = 0 #cor vermelho\n",
        "\n",
        "cv2.imwrite(\"color_img.png\",img)"
      ],
      "execution_count": 1,
      "outputs": [
        {
          "output_type": "execute_result",
          "data": {
            "text/plain": [
              "True"
            ]
          },
          "metadata": {
            "tags": []
          },
          "execution_count": 1
        }
      ]
    },
    {
      "cell_type": "code",
      "metadata": {
        "id": "4q-E29LSqi9a",
        "colab_type": "code",
        "colab": {
          "base_uri": "https://localhost:8080/",
          "height": 34
        },
        "outputId": "7aad4357-e212-4590-a83d-c32fd680406c"
      },
      "source": [
        "import cv2\n",
        "import numpy as np\n",
        "\n",
        "altura = 10\n",
        "largura = 10\n",
        "img = np.zeros ([altura,largura,3])\n",
        "\n",
        "for py in range(0,altura):\n",
        "  for px in range(0,largura):\n",
        "    if py==px:\n",
        "      img[py][px][0] = 0 #cor azul\n",
        "      img[py][px][1] = 0 #cor verde\n",
        "      img[py][px][2] = 0 #cor vermelho\n",
        "    else:\n",
        "      img[py][px][0] = 0 #cor azul\n",
        "      img[py][px][1] = 255 #cor verde\n",
        "      img[py][px][2] = 0 #cor vermelho\n",
        "\n",
        "cv2.imwrite(\"color_img.png\",img)"
      ],
      "execution_count": null,
      "outputs": [
        {
          "output_type": "execute_result",
          "data": {
            "text/plain": [
              "True"
            ]
          },
          "metadata": {
            "tags": []
          },
          "execution_count": 1
        }
      ]
    },
    {
      "cell_type": "markdown",
      "metadata": {
        "id": "8SABfeajBcWs",
        "colab_type": "text"
      },
      "source": [
        "**Quadrado**\n"
      ]
    },
    {
      "cell_type": "code",
      "metadata": {
        "id": "F17nyZOwAVhA",
        "colab_type": "code",
        "colab": {
          "base_uri": "https://localhost:8080/",
          "height": 34
        },
        "outputId": "5d993686-b85e-4bea-9f04-4694e07c74d1"
      },
      "source": [
        "import cv2\n",
        "import numpy as np\n",
        "\n",
        "altura = 100\n",
        "largura = 100\n",
        "img = np.zeros ([altura,largura,3])\n",
        "\n",
        "for py in range(0,altura):\n",
        "  for px in range(0,largura):\n",
        "    if py>=20 and py<=80 and px>=20 and px<=80:\n",
        "      img[py][px][0] = 0 #cor azul\n",
        "      img[py][px][1] = 0 #cor verde\n",
        "      img[py][px][2] = 0 #cor vermelho\n",
        "    else:\n",
        "      img[py][px][0] = 255 #cor azul\n",
        "      img[py][px][1] = 0 #cor verde\n",
        "      img[py][px][2] = 0 #cor vermelho\n",
        "\n",
        "cv2.imwrite(\"color1_img.png\",img)"
      ],
      "execution_count": null,
      "outputs": [
        {
          "output_type": "execute_result",
          "data": {
            "text/plain": [
              "True"
            ]
          },
          "metadata": {
            "tags": []
          },
          "execution_count": 2
        }
      ]
    },
    {
      "cell_type": "markdown",
      "metadata": {
        "id": "B0R2kyFznhO8",
        "colab_type": "text"
      },
      "source": [
        "# Ler e Mostrar uma imagem de um arquivo "
      ]
    },
    {
      "cell_type": "code",
      "metadata": {
        "id": "DZZs60SRnk4K",
        "colab_type": "code",
        "colab": {
          "base_uri": "https://localhost:8080/",
          "height": 34
        },
        "outputId": "e1b53437-28db-4640-ba7a-a5e96c7b1cab"
      },
      "source": [
        "from IPython.display import Image\n",
        "\n",
        "filename=\"color_img.png\"\n",
        "\n",
        "display(Image(filename))"
      ],
      "execution_count": null,
      "outputs": [
        {
          "output_type": "display_data",
          "data": {
            "image/png": "[encoded data removed]",
            "text/plain": [
              "<IPython.core.display.Image object>"
            ]
          },
          "metadata": {
            "tags": []
          }
        }
      ]
    },
    {
      "cell_type": "code",
      "metadata": {
        "id": "VBt63DZLr3ZG",
        "colab_type": "code",
        "colab": {
          "base_uri": "https://localhost:8080/",
          "height": 1000
        },
        "outputId": "9b188185-bf57-45d5-de90-2e03d52dcb71"
      },
      "source": [
        "import cv2\n",
        "import numpy as np\n",
        "imagem = cv2.imread(\"color_img.png\")\n",
        "altura,largura,bytesPorPixel = np.shape(imagem)\n",
        "for index in range(3):\n",
        "  if index==0:\n",
        "    print(\"Azul\")\n",
        "  elif index==1:\n",
        "    print(\"verde\")\n",
        "  else: \n",
        "    print(\"vermelho\")\n",
        "  for py in range(0,altura):\n",
        "    for px in range(0,largura):\n",
        "      print(imagem[py][px][index],'\\t',end='')\n",
        "    print(\"\\n\")\n",
        "\n"
      ],
      "execution_count": null,
      "outputs": [
        {
          "output_type": "stream",
          "text": [
            "Azul\n",
            "0 \t0 \t0 \t0 \t0 \t0 \t0 \t0 \t0 \t0 \t\n",
            "\n",
            "0 \t0 \t0 \t0 \t0 \t0 \t0 \t0 \t0 \t0 \t\n",
            "\n",
            "0 \t0 \t0 \t0 \t0 \t0 \t0 \t0 \t0 \t0 \t\n",
            "\n",
            "0 \t0 \t0 \t0 \t0 \t0 \t0 \t0 \t0 \t0 \t\n",
            "\n",
            "0 \t0 \t0 \t0 \t0 \t0 \t0 \t0 \t0 \t0 \t\n",
            "\n",
            "0 \t0 \t0 \t0 \t0 \t0 \t0 \t0 \t0 \t0 \t\n",
            "\n",
            "0 \t0 \t0 \t0 \t0 \t0 \t0 \t0 \t0 \t0 \t\n",
            "\n",
            "0 \t0 \t0 \t0 \t0 \t0 \t0 \t0 \t0 \t0 \t\n",
            "\n",
            "0 \t0 \t0 \t0 \t0 \t0 \t0 \t0 \t0 \t0 \t\n",
            "\n",
            "0 \t0 \t0 \t0 \t0 \t0 \t0 \t0 \t0 \t0 \t\n",
            "\n",
            "verde\n",
            "0 \t255 \t255 \t255 \t255 \t255 \t255 \t255 \t255 \t255 \t\n",
            "\n",
            "255 \t0 \t255 \t255 \t255 \t255 \t255 \t255 \t255 \t255 \t\n",
            "\n",
            "255 \t255 \t0 \t255 \t255 \t255 \t255 \t255 \t255 \t255 \t\n",
            "\n",
            "255 \t255 \t255 \t0 \t255 \t255 \t255 \t255 \t255 \t255 \t\n",
            "\n",
            "255 \t255 \t255 \t255 \t0 \t255 \t255 \t255 \t255 \t255 \t\n",
            "\n",
            "255 \t255 \t255 \t255 \t255 \t0 \t255 \t255 \t255 \t255 \t\n",
            "\n",
            "255 \t255 \t255 \t255 \t255 \t255 \t0 \t255 \t255 \t255 \t\n",
            "\n",
            "255 \t255 \t255 \t255 \t255 \t255 \t255 \t0 \t255 \t255 \t\n",
            "\n",
            "255 \t255 \t255 \t255 \t255 \t255 \t255 \t255 \t0 \t255 \t\n",
            "\n",
            "255 \t255 \t255 \t255 \t255 \t255 \t255 \t255 \t255 \t0 \t\n",
            "\n",
            "vermelho\n",
            "0 \t0 \t0 \t0 \t0 \t0 \t0 \t0 \t0 \t0 \t\n",
            "\n",
            "0 \t0 \t0 \t0 \t0 \t0 \t0 \t0 \t0 \t0 \t\n",
            "\n",
            "0 \t0 \t0 \t0 \t0 \t0 \t0 \t0 \t0 \t0 \t\n",
            "\n",
            "0 \t0 \t0 \t0 \t0 \t0 \t0 \t0 \t0 \t0 \t\n",
            "\n",
            "0 \t0 \t0 \t0 \t0 \t0 \t0 \t0 \t0 \t0 \t\n",
            "\n",
            "0 \t0 \t0 \t0 \t0 \t0 \t0 \t0 \t0 \t0 \t\n",
            "\n",
            "0 \t0 \t0 \t0 \t0 \t0 \t0 \t0 \t0 \t0 \t\n",
            "\n",
            "0 \t0 \t0 \t0 \t0 \t0 \t0 \t0 \t0 \t0 \t\n",
            "\n",
            "0 \t0 \t0 \t0 \t0 \t0 \t0 \t0 \t0 \t0 \t\n",
            "\n",
            "0 \t0 \t0 \t0 \t0 \t0 \t0 \t0 \t0 \t0 \t\n",
            "\n"
          ],
          "name": "stdout"
        }
      ]
    },
    {
      "cell_type": "code",
      "metadata": {
        "id": "gieu5zZ743cP",
        "colab_type": "code",
        "colab": {
          "base_uri": "https://localhost:8080/",
          "height": 126
        },
        "outputId": "6f10216a-1b84-471d-992a-4a8c71742d0b"
      },
      "source": [
        "from IPython.display import Image\n",
        "\n",
        "filename=\"anel_1.png\"\n",
        "\n",
        "display(Image(filename))"
      ],
      "execution_count": null,
      "outputs": [
        {
          "output_type": "display_data",
          "data": {
            "image/png": "[encoded data removed]",
            "text/plain": [
              "<IPython.core.display.Image object>"
            ]
          },
          "metadata": {
            "tags": []
          }
        }
      ]
    },
    {
      "cell_type": "code",
      "metadata": {
        "id": "OnvdhRVq5aw_",
        "colab_type": "code",
        "colab": {}
      },
      "source": [
        "import cv2\n",
        "import numpy as np\n",
        "imagem = cv2.imread(\"anel_1.png\")\n",
        "altura,largura,bytesPorPixel = np.shape(imagem)\n",
        "for index in range(3):\n",
        "  if index==0:\n",
        "    print(\"Azul\")\n",
        "  elif index==1:\n",
        "    print(\"verde\")\n",
        "  else: \n",
        "    print(\"vermelho\")\n",
        "  for py in range(0,altura):\n",
        "    for px in range(0,largura):\n",
        "      print(imagem[py][px][index],'\\t',end='')\n",
        "    print(\"\\n\")"
      ],
      "execution_count": null,
      "outputs": []
    },
    {
      "cell_type": "markdown",
      "metadata": {
        "id": "atiqY0NghuXj",
        "colab_type": "text"
      },
      "source": [
        "# **Aula 2020_09_03**"
      ]
    },
    {
      "cell_type": "markdown",
      "metadata": {
        "id": "5kq9lOlun1QY",
        "colab_type": "text"
      },
      "source": [
        "# Histograma"
      ]
    },
    {
      "cell_type": "code",
      "metadata": {
        "id": "OUoRZsSFn2WP",
        "colab_type": "code",
        "colab": {
          "base_uri": "https://localhost:8080/",
          "height": 265
        },
        "outputId": "6a3e96f0-e7b6-4bfe-e978-8a1e53256d42"
      },
      "source": [
        "import cv2\n",
        "import matplotlib.pylab as plt\n",
        "\n",
        "imagem = cv2.imread('color_img.png')\n",
        "plt.hist(imagem.ravel(),bins=256, range=[0,256])\n",
        "plt.show()"
      ],
      "execution_count": null,
      "outputs": [
        {
          "output_type": "display_data",
          "data": {
            "image/png": "[encoded data removed]",
            "text/plain": [
              "<Figure size 432x288 with 1 Axes>"
            ]
          },
          "metadata": {
            "tags": [],
            "needs_background": "light"
          }
        }
      ]
    },
    {
      "cell_type": "code",
      "metadata": {
        "id": "kAetqecgjYSd",
        "colab_type": "code",
        "colab": {
          "base_uri": "https://localhost:8080/",
          "height": 0
        },
        "outputId": "645f9513-574e-4a9e-84cb-bbc37fb7a767"
      },
      "source": [
        "import cv2\n",
        "import matplotlib.pylab as plt\n",
        "\n",
        "image = cv2.imread('color_img.png')\n",
        "color = ('b','g','r')\n",
        "\n",
        "for i, col in enumerate(color):\n",
        "  histr = cv2.calcHist([image],[i],None,[256],[0,256])\n",
        "  plt.plot(histr,color = col)\n",
        "  plt.xlim([0,256])\n",
        "plt.show()"
      ],
      "execution_count": 4,
      "outputs": [
        {
          "output_type": "display_data",
          "data": {
            "image/png": "[encoded data removed]",
            "text/plain": [
              "<Figure size 432x288 with 1 Axes>"
            ]
          },
          "metadata": {
            "tags": [],
            "needs_background": "light"
          }
        }
      ]
    },
    {
      "cell_type": "markdown",
      "metadata": {
        "id": "e0Oc80zjl_Rm",
        "colab_type": "text"
      },
      "source": [
        "#Conversão para cinza"
      ]
    },
    {
      "cell_type": "markdown",
      "metadata": {
        "id": "gF8Xeh_Qozpt",
        "colab_type": "text"
      },
      "source": [
        "**Metodo escolha de canal**"
      ]
    },
    {
      "cell_type": "code",
      "metadata": {
        "id": "7J87vtt9mHnk",
        "colab_type": "code",
        "colab": {
          "base_uri": "https://localhost:8080/",
          "height": 34
        },
        "outputId": "3e398686-965e-4b3e-df11-d09f74cc9977"
      },
      "source": [
        "import cv2\n",
        "import numpy as np\n",
        "\n",
        "imagem = cv2.imread('starry_night.jpg')\n",
        "altura, largura, bytesPorPixel = np.shape(imagem)\n",
        "img = np.zeros([altura,largura,3])\n",
        "\n",
        "for py in range(0, altura):\n",
        "  for px in range(0, largura):\n",
        "    img[py][px][0] = imagem[py][px][0] # cor azul\n",
        "    img[py][px][1] = 0 # cor verde\n",
        "    img[py][px][2] = 0 # cor vermelho\n",
        "cv2.imwrite(\"starry_night_Azul.jpg\", img )\n"
      ],
      "execution_count": 11,
      "outputs": [
        {
          "output_type": "execute_result",
          "data": {
            "text/plain": [
              "True"
            ]
          },
          "metadata": {
            "tags": []
          },
          "execution_count": 11
        }
      ]
    },
    {
      "cell_type": "code",
      "metadata": {
        "id": "gRB-M_AzpTMv",
        "colab_type": "code",
        "colab": {
          "base_uri": "https://localhost:8080/",
          "height": 34
        },
        "outputId": "e138e0d1-63bb-4b4a-a19b-23385c8354f3"
      },
      "source": [
        "import cv2\n",
        "import numpy as np\n",
        "\n",
        "imagem = cv2.imread('starry_night_Azul.jpg')\n",
        "altura, largura, bytesPorPixel = np.shape(imagem)\n",
        "img = np.zeros([altura,largura,3])\n",
        "\n",
        "for py in range(0, altura):\n",
        "  for px in range(0, largura):\n",
        "    img[py][px][0] = imagem[py][px][0] # cor azul\n",
        "    img[py][px][1] = imagem[py][px][0] # cor verde\n",
        "    img[py][px][2] = imagem[py][px][0] # cor Vermelha\n",
        "cv2.imwrite(\"starry_night_Azul_Cinza.jpg\", img)"
      ],
      "execution_count": 12,
      "outputs": [
        {
          "output_type": "execute_result",
          "data": {
            "text/plain": [
              "True"
            ]
          },
          "metadata": {
            "tags": []
          },
          "execution_count": 12
        }
      ]
    },
    {
      "cell_type": "markdown",
      "metadata": {
        "id": "bzwBMp72rRSe",
        "colab_type": "text"
      },
      "source": [
        "**Metodo OpenCV**"
      ]
    },
    {
      "cell_type": "code",
      "metadata": {
        "id": "D7KYhHinrYeM",
        "colab_type": "code",
        "colab": {
          "base_uri": "https://localhost:8080/",
          "height": 34
        },
        "outputId": "752e1548-e48c-4f79-bafb-27ce9a8c1d7b"
      },
      "source": [
        "import cv2\n",
        "import numpy as np\n",
        "\n",
        "imagem = cv2.imread(\"starry_night.jpg\")\n",
        "gray = cv2.cvtColor(imagem,cv2.COLOR_BGR2GRAY)\n",
        "cv2.imwrite('starry_night_grayscale.jpg', gray)"
      ],
      "execution_count": 14,
      "outputs": [
        {
          "output_type": "execute_result",
          "data": {
            "text/plain": [
              "True"
            ]
          },
          "metadata": {
            "tags": []
          },
          "execution_count": 14
        }
      ]
    },
    {
      "cell_type": "markdown",
      "metadata": {
        "id": "J7mioLSnscY-",
        "colab_type": "text"
      },
      "source": [
        "**Histograma sparado por grayscale**"
      ]
    },
    {
      "cell_type": "code",
      "metadata": {
        "id": "jWfxfO4JsjjS",
        "colab_type": "code",
        "colab": {
          "base_uri": "https://localhost:8080/",
          "height": 265
        },
        "outputId": "3c2a2ab0-87a6-45b0-cec1-d46d789323fe"
      },
      "source": [
        "import cv2\n",
        "import numpy as np\n",
        "\n",
        "image=cv2.imread('starry_night_grayscale.jpg')\n",
        "color=('b','g','r')\n",
        "\n",
        "for i,col in enumerate(color):\n",
        "  hist=cv2.calcHist([image],[i],None,[256],[0,256])\n",
        "  plt.plot(histr,color=col)\n",
        "  plt.xlim([2,256])\n",
        "plt.show()\n"
      ],
      "execution_count": 15,
      "outputs": [
        {
          "output_type": "display_data",
          "data": {
            "image/png": "[encoded data removed]",
            "text/plain": [
              "<Figure size 432x288 with 1 Axes>"
            ]
          },
          "metadata": {
            "tags": [],
            "needs_background": "light"
          }
        }
      ]
    },
    {
      "cell_type": "markdown",
      "metadata": {
        "id": "Za9HbCnguci3",
        "colab_type": "text"
      },
      "source": [
        "# **Aula 2020_09_04**"
      ]
    }
  ]
}