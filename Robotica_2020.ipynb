{
  "nbformat": 4,
  "nbformat_minor": 0,
  "metadata": {
    "colab": {
      "name": "Robotica_2020.ipynb",
      "provenance": [],
      "collapsed_sections": [
        "fpxiNN1vfIIl",
        "gNgu2mkr-N91"
      ],
      "authorship_tag": "ABX9TyNOI5L/uPii8xC3WHxaxzBh",
      "include_colab_link": true
    },
    "kernelspec": {
      "name": "python3",
      "display_name": "Python 3"
    }
  },
  "cells": [
    {
      "cell_type": "markdown",
      "metadata": {
        "id": "view-in-github",
        "colab_type": "text"
      },
      "source": [
        "<a href=\"https://colab.research.google.com/github/LucasGanaka/FATEC_Robotica_Lucas_Ganaka/blob/master/Robotica_2020.ipynb\" target=\"_parent\"><img src=\"https://colab.research.google.com/assets/colab-badge.svg\" alt=\"Open In Colab\"/></a>"
      ]
    },
    {
      "cell_type": "markdown",
      "metadata": {
        "id": "iFJRsE9je8ST",
        "colab_type": "text"
      },
      "source": [
        "\n",
        "\n",
        "Disciplina: Robótica "
      ]
    },
    {
      "cell_type": "markdown",
      "metadata": {
        "id": "fpxiNN1vfIIl",
        "colab_type": "text"
      },
      "source": [
        "# **Aula 2020_08_21**"
      ]
    },
    {
      "cell_type": "code",
      "metadata": {
        "id": "EVPcKOKGfU_A",
        "colab_type": "code",
        "colab": {
          "base_uri": "https://localhost:8080/",
          "height": 34
        },
        "outputId": "026b2bde-e4c0-4891-c28a-346f98a3b5e6"
      },
      "source": [
        "print (\"Hello World\")"
      ],
      "execution_count": null,
      "outputs": [
        {
          "output_type": "stream",
          "text": [
            "Hello World\n"
          ],
          "name": "stdout"
        }
      ]
    },
    {
      "cell_type": "code",
      "metadata": {
        "id": "3fx4bWItuhie",
        "colab_type": "code",
        "colab": {
          "base_uri": "https://localhost:8080/",
          "height": 34
        },
        "outputId": "8aafc42c-0b27-4825-af55-6adcec070374"
      },
      "source": [
        "import cv2\n",
        "import numpy as np\n",
        "\n",
        "altura = 100\n",
        "largura = 100\n",
        "img = np.zeros([altura,largura,3])\n",
        "\n",
        "for py in range(0,altura):\n",
        "  for px in range(0,largura):\n",
        "    img[py][px][0] = 0 #cor azul\n",
        "    img[py][px][1] = 255 #cor verde\n",
        "    img[py][px][2] = 0 #cor vermelha\n",
        "\n",
        "cv2.imwrite(\"color_img.png\", img)"
      ],
      "execution_count": null,
      "outputs": [
        {
          "output_type": "execute_result",
          "data": {
            "text/plain": [
              "True"
            ]
          },
          "metadata": {
            "tags": []
          },
          "execution_count": 1
        }
      ]
    },
    {
      "cell_type": "markdown",
      "metadata": {
        "id": "gNgu2mkr-N91",
        "colab_type": "text"
      },
      "source": [
        "# **Aula 2020_08_27**"
      ]
    },
    {
      "cell_type": "markdown",
      "metadata": {
        "id": "B-H5aVGMs9XV",
        "colab_type": "text"
      },
      "source": [
        "TUPLAS: é um conjunto que não pode ser alterado "
      ]
    },
    {
      "cell_type": "code",
      "metadata": {
        "id": "zXz-ixU5tJl2",
        "colab_type": "code",
        "colab": {
          "base_uri": "https://localhost:8080/",
          "height": 50
        },
        "outputId": "cb5dad85-8b5e-414e-8f9c-88d93aae6f31"
      },
      "source": [
        "tuplas1 = (1,2,3,\"34asv\")\n",
        "print(tuplas1[0])\n",
        "print(tuplas1[3])"
      ],
      "execution_count": 1,
      "outputs": [
        {
          "output_type": "stream",
          "text": [
            "1\n",
            "34asv\n"
          ],
          "name": "stdout"
        }
      ]
    },
    {
      "cell_type": "markdown",
      "metadata": {
        "id": "lh0FSbD6t_st",
        "colab_type": "text"
      },
      "source": [
        "DICIONARIO: é um conjunto que tem um vinculo de chave e valor. \n",
        "Onde a busca de valor é refenciada pela chave "
      ]
    },
    {
      "cell_type": "code",
      "metadata": {
        "id": "VWdtsjfFuUPn",
        "colab_type": "code",
        "colab": {
          "base_uri": "https://localhost:8080/",
          "height": 34
        },
        "outputId": "f1518aea-526f-4c2e-ec8e-57e45d576e9a"
      },
      "source": [
        "precoProduto = {\"arroz\":17.30,\"feijão\":12.50,\"carne\":23.90}\n",
        "\n",
        "print(precoProduto[\"arroz\"])"
      ],
      "execution_count": 2,
      "outputs": [
        {
          "output_type": "stream",
          "text": [
            "17.3\n"
          ],
          "name": "stdout"
        }
      ]
    },
    {
      "cell_type": "markdown",
      "metadata": {
        "id": "EJbkJYXAw-TE",
        "colab_type": "text"
      },
      "source": [
        "1) Dada a lista L=[5,7,2,9,4,1,3], escreva um programa que imprima as seguintes informações:\n",
        "\n",
        "a)tamanho da lista\n",
        "\n",
        "b)maior valor da lista\n",
        "\n",
        "c)menor valor da lista\n",
        "\n",
        "d)soma de todos os elementos \n",
        "\n",
        "e)lista em ordem crescente\n",
        "\n",
        "f)lista em ordem decrescente "
      ]
    },
    {
      "cell_type": "code",
      "metadata": {
        "id": "b12BdGngulec",
        "colab_type": "code",
        "colab": {
          "base_uri": "https://localhost:8080/",
          "height": 118
        },
        "outputId": "14c2a0c8-cbb5-415e-cd9e-fb0fac99fd62"
      },
      "source": [
        "L = [5,7,2,9,4,1,3]\n",
        "\n",
        "print(len(L))\n",
        "print(min(L))\n",
        "print(max(L))\n",
        "print(sum(L))\n",
        "L.sort()\n",
        "print(L)\n",
        "L.reverse()\n",
        "print(L)\n"
      ],
      "execution_count": null,
      "outputs": [
        {
          "output_type": "stream",
          "text": [
            "7\n",
            "1\n",
            "9\n",
            "31\n",
            "[1, 2, 3, 4, 5, 7, 9]\n",
            "[9, 7, 5, 4, 3, 2, 1]\n"
          ],
          "name": "stdout"
        }
      ]
    },
    {
      "cell_type": "markdown",
      "metadata": {
        "id": "5-l7XNZzxrb-",
        "colab_type": "text"
      },
      "source": [
        "2)Escreva um programa que receba 2 valores de tipos inteiros X e Y, e calcule o valor de Z:\n",
        "\n",
        "Z=(X2+Y2)(X-Y)^2"
      ]
    },
    {
      "cell_type": "code",
      "metadata": {
        "id": "YfccCRaEwB8C",
        "colab_type": "code",
        "colab": {
          "base_uri": "https://localhost:8080/",
          "height": 67
        },
        "outputId": "7054ebc4-e12c-4466-db62-5b345cfc16ad"
      },
      "source": [
        "X = int(input('digite um numero inteiro: '))\n",
        "Y = int(input('digite um numero inteiro: '))\n",
        "\n",
        "Z = (X*2+Y*2)*(X-Y)^2\n",
        "print(Z)"
      ],
      "execution_count": null,
      "outputs": [
        {
          "output_type": "stream",
          "text": [
            "digite um numero inteiro: 4\n",
            "digite um numero inteiro: 2\n",
            "26\n"
          ],
          "name": "stdout"
        }
      ]
    }
  ]
}