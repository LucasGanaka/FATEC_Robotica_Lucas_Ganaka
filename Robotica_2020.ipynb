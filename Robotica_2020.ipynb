{
  "nbformat": 4,
  "nbformat_minor": 0,
  "metadata": {
    "colab": {
      "name": "Robotica_2020.ipynb",
      "provenance": [],
      "authorship_tag": "ABX9TyMbU6RU086FJPUE8RRoLhed",
      "include_colab_link": true
    },
    "kernelspec": {
      "name": "python3",
      "display_name": "Python 3"
    }
  },
  "cells": [
    {
      "cell_type": "markdown",
      "metadata": {
        "id": "view-in-github",
        "colab_type": "text"
      },
      "source": [
        "<a href=\"https://colab.research.google.com/github/LucasGanaka/FATEC_Robotica_Lucas_Ganaka/blob/master/Robotica_2020.ipynb\" target=\"_parent\"><img src=\"https://colab.research.google.com/assets/colab-badge.svg\" alt=\"Open In Colab\"/></a>"
      ]
    },
    {
      "cell_type": "markdown",
      "metadata": {
        "id": "iFJRsE9je8ST",
        "colab_type": "text"
      },
      "source": [
        "Disciplina: Robótica "
      ]
    },
    {
      "cell_type": "markdown",
      "metadata": {
        "id": "fpxiNN1vfIIl",
        "colab_type": "text"
      },
      "source": [
        "# **Aula 2020_08_21**"
      ]
    },
    {
      "cell_type": "code",
      "metadata": {
        "id": "EVPcKOKGfU_A",
        "colab_type": "code",
        "colab": {
          "base_uri": "https://localhost:8080/",
          "height": 34
        },
        "outputId": "026b2bde-e4c0-4891-c28a-346f98a3b5e6"
      },
      "source": [
        "print (\"Hello World\")"
      ],
      "execution_count": null,
      "outputs": [
        {
          "output_type": "stream",
          "text": [
            "Hello World\n"
          ],
          "name": "stdout"
        }
      ]
    },
    {
      "cell_type": "markdown",
      "metadata": {
        "id": "gNgu2mkr-N91",
        "colab_type": "text"
      },
      "source": [
        "# **Aula 2020_08_27**"
      ]
    },
    {
      "cell_type": "code",
      "metadata": {
        "id": "WmXBBjkk-XeY",
        "colab_type": "code",
        "colab": {
          "base_uri": "https://localhost:8080/",
          "height": 34
        },
        "outputId": "431f8325-5afc-4e05-f398-1a19372e277e"
      },
      "source": [
        "import cv2\n",
        "import numpy as np\n",
        "\n",
        "altura = 100\n",
        "largura = 100\n",
        "img = np.zeros([altura,largura,3])\n",
        "\n",
        "for py in range(0,altura):\n",
        "  for px in range(0,largura):\n",
        "    img[py][px][0] = 0 #cor azul\n",
        "    img[py][px][1] = 255 #cor verde\n",
        "    img[py][px][2] = 0 #cor vermelha\n",
        "\n",
        "cv2.imwrite(\"color_img.png\", img)"
      ],
      "execution_count": 5,
      "outputs": [
        {
          "output_type": "execute_result",
          "data": {
            "text/plain": [
              "True"
            ]
          },
          "metadata": {
            "tags": []
          },
          "execution_count": 5
        }
      ]
    }
  ]
}