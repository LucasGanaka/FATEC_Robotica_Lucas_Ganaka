{
  "nbformat": 4,
  "nbformat_minor": 0,
  "metadata": {
    "colab": {
      "name": "Robotica_2020.ipynb",
      "provenance": [],
      "authorship_tag": "ABX9TyMerVo686bTORwIiv+nQWRa",
      "include_colab_link": true
    },
    "kernelspec": {
      "name": "python3",
      "display_name": "Python 3"
    }
  },
  "cells": [
    {
      "cell_type": "markdown",
      "metadata": {
        "id": "view-in-github",
        "colab_type": "text"
      },
      "source": [
        "<a href=\"https://colab.research.google.com/github/LucasGanaka/FATEC_Robotica_Lucas_Ganaka/blob/master/Robotica_2020.ipynb\" target=\"_parent\"><img src=\"https://colab.research.google.com/assets/colab-badge.svg\" alt=\"Open In Colab\"/></a>"
      ]
    },
    {
      "cell_type": "markdown",
      "metadata": {
        "id": "iFJRsE9je8ST",
        "colab_type": "text"
      },
      "source": [
        "\n",
        "\n",
        "Disciplina: Robótica "
      ]
    },
    {
      "cell_type": "markdown",
      "metadata": {
        "id": "fpxiNN1vfIIl",
        "colab_type": "text"
      },
      "source": [
        "# **Aula 2020_08_21**"
      ]
    },
    {
      "cell_type": "code",
      "metadata": {
        "id": "EVPcKOKGfU_A",
        "colab_type": "code",
        "colab": {
          "base_uri": "https://localhost:8080/",
          "height": 34
        },
        "outputId": "026b2bde-e4c0-4891-c28a-346f98a3b5e6"
      },
      "source": [
        "print (\"Hello World\")"
      ],
      "execution_count": null,
      "outputs": [
        {
          "output_type": "stream",
          "text": [
            "Hello World\n"
          ],
          "name": "stdout"
        }
      ]
    },
    {
      "cell_type": "code",
      "metadata": {
        "id": "3fx4bWItuhie",
        "colab_type": "code",
        "colab": {
          "base_uri": "https://localhost:8080/",
          "height": 34
        },
        "outputId": "8aafc42c-0b27-4825-af55-6adcec070374"
      },
      "source": [
        "import cv2\n",
        "import numpy as np\n",
        "\n",
        "altura = 100\n",
        "largura = 100\n",
        "img = np.zeros([altura,largura,3])\n",
        "\n",
        "for py in range(0,altura):\n",
        "  for px in range(0,largura):\n",
        "    img[py][px][0] = 0 #cor azul\n",
        "    img[py][px][1] = 255 #cor verde\n",
        "    img[py][px][2] = 0 #cor vermelha\n",
        "\n",
        "cv2.imwrite(\"color_img.png\", img)"
      ],
      "execution_count": 1,
      "outputs": [
        {
          "output_type": "execute_result",
          "data": {
            "text/plain": [
              "True"
            ]
          },
          "metadata": {
            "tags": []
          },
          "execution_count": 1
        }
      ]
    },
    {
      "cell_type": "markdown",
      "metadata": {
        "id": "gNgu2mkr-N91",
        "colab_type": "text"
      },
      "source": [
        "# **Aula 2020_08_27**"
      ]
    },
    {
      "cell_type": "markdown",
      "metadata": {
        "id": "EJbkJYXAw-TE",
        "colab_type": "text"
      },
      "source": [
        "1) Dada a lista L=[5,7,2,9,4,1,3], escreva um programa que imprima as seguintes informações:\n",
        "\n",
        "a)tamanho da lista\n",
        "\n",
        "b)maior valor da lista\n",
        "\n",
        "c)menor valor da lista\n",
        "\n",
        "d)soma de todos os elementos \n",
        "\n",
        "e)lista em ordem crescente\n",
        "\n",
        "f)lista em ordem decrescente "
      ]
    },
    {
      "cell_type": "code",
      "metadata": {
        "id": "b12BdGngulec",
        "colab_type": "code",
        "colab": {
          "base_uri": "https://localhost:8080/",
          "height": 118
        },
        "outputId": "ac6d4442-a4b7-4bef-9c70-d7720a45aa7a"
      },
      "source": [
        "L = [5,7,2,9,4,1,3]\n",
        "\n",
        "print(len(L))\n",
        "print(min(L))\n",
        "print(max(L))\n",
        "print(sum(L))\n",
        "L.sort()\n",
        "print(L)\n",
        "L.reverse()\n",
        "print(L)\n"
      ],
      "execution_count": 10,
      "outputs": [
        {
          "output_type": "stream",
          "text": [
            "7\n",
            "1\n",
            "9\n",
            "31\n",
            "[1, 2, 3, 4, 5, 7, 9]\n",
            "[9, 7, 5, 4, 3, 2, 1]\n"
          ],
          "name": "stdout"
        }
      ]
    },
    {
      "cell_type": "markdown",
      "metadata": {
        "id": "5-l7XNZzxrb-",
        "colab_type": "text"
      },
      "source": [
        "2)Escreva um programa que receba 2 valores de tipos inteiros X e Y, e calcule o valor de Z:\n",
        "\n",
        "Z=(X2+Y2)(X-Y)^2"
      ]
    },
    {
      "cell_type": "code",
      "metadata": {
        "id": "YfccCRaEwB8C",
        "colab_type": "code",
        "colab": {
          "base_uri": "https://localhost:8080/",
          "height": 67
        },
        "outputId": "09921449-1574-4ab2-ce1a-76ebab9c95ab"
      },
      "source": [
        "X = int(input('digite um numero inteiro: '))\n",
        "Y = int(input('digite um numero inteiro: '))\n",
        "\n",
        "Z = (X*2+Y*2)*(X-Y)^2\n",
        "print(Z)"
      ],
      "execution_count": 11,
      "outputs": [
        {
          "output_type": "stream",
          "text": [
            "digite um numero inteiro: 4\n",
            "digite um numero inteiro: 2\n",
            "26\n"
          ],
          "name": "stdout"
        }
      ]
    }
  ]
}