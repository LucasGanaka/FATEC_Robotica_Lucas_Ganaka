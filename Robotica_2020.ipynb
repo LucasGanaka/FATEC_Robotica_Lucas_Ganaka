{
  "nbformat": 4,
  "nbformat_minor": 0,
  "metadata": {
    "colab": {
      "name": "Robotica_2020.ipynb",
      "provenance": [],
      "collapsed_sections": [
        "fpxiNN1vfIIl",
        "gNgu2mkr-N91"
      ],
      "authorship_tag": "ABX9TyN3t9DzIRJ/OXOFtkQG2buz",
      "include_colab_link": true
    },
    "kernelspec": {
      "name": "python3",
      "display_name": "Python 3"
    }
  },
  "cells": [
    {
      "cell_type": "markdown",
      "metadata": {
        "id": "view-in-github",
        "colab_type": "text"
      },
      "source": [
        "<a href=\"https://colab.research.google.com/github/LucasGanaka/FATEC_Robotica_Lucas_Ganaka/blob/master/Robotica_2020.ipynb\" target=\"_parent\"><img src=\"https://colab.research.google.com/assets/colab-badge.svg\" alt=\"Open In Colab\"/></a>"
      ]
    },
    {
      "cell_type": "markdown",
      "metadata": {
        "id": "iFJRsE9je8ST",
        "colab_type": "text"
      },
      "source": [
        "\n",
        "\n",
        " Disciplina: Robótica "
      ]
    },
    {
      "cell_type": "markdown",
      "metadata": {
        "id": "fpxiNN1vfIIl",
        "colab_type": "text"
      },
      "source": [
        "# **Aula 2020_08_21**"
      ]
    },
    {
      "cell_type": "code",
      "metadata": {
        "id": "EVPcKOKGfU_A",
        "colab_type": "code",
        "colab": {
          "base_uri": "https://localhost:8080/",
          "height": 34
        },
        "outputId": "0580b811-b1b8-491c-d39e-fb3633e9d51d"
      },
      "source": [
        "print (\"Hello World\")"
      ],
      "execution_count": null,
      "outputs": [
        {
          "output_type": "stream",
          "text": [
            "Hello World\n"
          ],
          "name": "stdout"
        }
      ]
    },
    {
      "cell_type": "markdown",
      "metadata": {
        "id": "gNgu2mkr-N91",
        "colab_type": "text"
      },
      "source": [
        "# **Aula 2020_08_27**"
      ]
    },
    {
      "cell_type": "markdown",
      "metadata": {
        "id": "B-H5aVGMs9XV",
        "colab_type": "text"
      },
      "source": [
        "# TUPLAS: é um conjunto que não pode ser alterado "
      ]
    },
    {
      "cell_type": "code",
      "metadata": {
        "id": "zXz-ixU5tJl2",
        "colab_type": "code",
        "colab": {
          "base_uri": "https://localhost:8080/",
          "height": 50
        },
        "outputId": "cb5dad85-8b5e-414e-8f9c-88d93aae6f31"
      },
      "source": [
        "tuplas1 = (1,2,3,\"34asv\")\n",
        "print(tuplas1[0])\n",
        "print(tuplas1[3])"
      ],
      "execution_count": null,
      "outputs": [
        {
          "output_type": "stream",
          "text": [
            "1\n",
            "34asv\n"
          ],
          "name": "stdout"
        }
      ]
    },
    {
      "cell_type": "markdown",
      "metadata": {
        "id": "lh0FSbD6t_st",
        "colab_type": "text"
      },
      "source": [
        "# DICIONARIO: é um conjunto que tem um vinculo de chave e valor. Onde a busca de valor é refenciada pela chave "
      ]
    },
    {
      "cell_type": "code",
      "metadata": {
        "id": "VWdtsjfFuUPn",
        "colab_type": "code",
        "colab": {
          "base_uri": "https://localhost:8080/",
          "height": 34
        },
        "outputId": "f1518aea-526f-4c2e-ec8e-57e45d576e9a"
      },
      "source": [
        "precoProduto = {\"arroz\":17.30,\"feijão\":12.50,\"carne\":23.90}\n",
        "\n",
        "print(precoProduto[\"arroz\"])"
      ],
      "execution_count": null,
      "outputs": [
        {
          "output_type": "stream",
          "text": [
            "17.3\n"
          ],
          "name": "stdout"
        }
      ]
    },
    {
      "cell_type": "markdown",
      "metadata": {
        "id": "EJbkJYXAw-TE",
        "colab_type": "text"
      },
      "source": [
        "1) Dada a lista L=[5,7,2,9,4,1,3], escreva um programa que imprima as seguintes informações:\n",
        "\n",
        "a)tamanho da lista\n",
        "\n",
        "b)maior valor da lista\n",
        "\n",
        "c)menor valor da lista\n",
        "\n",
        "d)soma de todos os elementos \n",
        "\n",
        "e)lista em ordem crescente\n",
        "\n",
        "f)lista em ordem decrescente "
      ]
    },
    {
      "cell_type": "code",
      "metadata": {
        "id": "b12BdGngulec",
        "colab_type": "code",
        "colab": {
          "base_uri": "https://localhost:8080/",
          "height": 118
        },
        "outputId": "14c2a0c8-cbb5-415e-cd9e-fb0fac99fd62"
      },
      "source": [
        "L = [5,7,2,9,4,1,3]\n",
        "\n",
        "print(len(L))\n",
        "print(min(L))\n",
        "print(max(L))\n",
        "print(sum(L))\n",
        "L.sort()\n",
        "print(L)\n",
        "L.reverse()\n",
        "print(L)\n"
      ],
      "execution_count": null,
      "outputs": [
        {
          "output_type": "stream",
          "text": [
            "7\n",
            "1\n",
            "9\n",
            "31\n",
            "[1, 2, 3, 4, 5, 7, 9]\n",
            "[9, 7, 5, 4, 3, 2, 1]\n"
          ],
          "name": "stdout"
        }
      ]
    },
    {
      "cell_type": "markdown",
      "metadata": {
        "id": "5-l7XNZzxrb-",
        "colab_type": "text"
      },
      "source": [
        "2)Escreva um programa que receba 2 valores de tipos inteiros X e Y, e calcule o valor de Z:\n",
        "\n",
        "Z=(X2+Y2)(X-Y)^2"
      ]
    },
    {
      "cell_type": "code",
      "metadata": {
        "id": "YfccCRaEwB8C",
        "colab_type": "code",
        "colab": {
          "base_uri": "https://localhost:8080/",
          "height": 67
        },
        "outputId": "7054ebc4-e12c-4466-db62-5b345cfc16ad"
      },
      "source": [
        "X = int(input('digite um numero inteiro: '))\n",
        "Y = int(input('digite um numero inteiro: '))\n",
        "\n",
        "Z = (X*2+Y*2)*(X-Y)^2\n",
        "print(Z)"
      ],
      "execution_count": null,
      "outputs": [
        {
          "output_type": "stream",
          "text": [
            "digite um numero inteiro: 4\n",
            "digite um numero inteiro: 2\n",
            "26\n"
          ],
          "name": "stdout"
        }
      ]
    },
    {
      "cell_type": "markdown",
      "metadata": {
        "id": "3l0ZXaWKkXMs",
        "colab_type": "text"
      },
      "source": [
        "3)Dada a tabela a seguir, crie um dicionáro que represente:                "
      ]
    },
    {
      "cell_type": "code",
      "metadata": {
        "id": "vV3jZB3XlEo7",
        "colab_type": "code",
        "colab": {
          "base_uri": "https://localhost:8080/",
          "height": 50
        },
        "outputId": "7133b2e8-89ef-4f3b-d647-f4fdc5c309b6"
      },
      "source": [
        "ProdutoPreco = {\"Salgado\":4.50,\"Lanche\":6.50,\"Suco\":3.00,\"Refrigerante\":3.50,\"Doce\":1.00}\n",
        "\n",
        "produto = input('Digite o nome do produto: ')\n",
        "\n",
        "print(ProdutoPreco[produto])"
      ],
      "execution_count": 18,
      "outputs": [
        {
          "output_type": "stream",
          "text": [
            "Digite o nome do produto: Suco\n",
            "3.0\n"
          ],
          "name": "stdout"
        }
      ]
    },
    {
      "cell_type": "markdown",
      "metadata": {
        "id": "6oLXxvrL6K32",
        "colab_type": "text"
      },
      "source": [
        "4)Considere um dicionário com 5 nomes de alunos e suas notas. Escreva um programa que calcule a média dessas notas."
      ]
    },
    {
      "cell_type": "code",
      "metadata": {
        "id": "2rOlOQGz7oPp",
        "colab_type": "code",
        "colab": {
          "base_uri": "https://localhost:8080/",
          "height": 34
        },
        "outputId": "aef68e52-fce7-4d8d-fbe5-7f532a1931b2"
      },
      "source": [
        "alunosNotas = {\"Lucas\":10,\"Fulano\":4,\"Ciclano\":4,\"Beltrano\":8,\"Irineu\":9,}\n",
        "\n",
        "media = (alunosNotas[\"Lucas\"] + alunosNotas[\"Fulano\"] + alunosNotas[\"Ciclano\"] + alunosNotas[\"Beltrano\"] + alunosNotas[\"Irineu\"])/5\n",
        "\n",
        "print(media)"
      ],
      "execution_count": 25,
      "outputs": [
        {
          "output_type": "stream",
          "text": [
            "7.0\n"
          ],
          "name": "stdout"
        }
      ]
    },
    {
      "cell_type": "markdown",
      "metadata": {
        "id": "SCOxkAEQ7t3A",
        "colab_type": "text"
      },
      "source": [
        "5)Faça um programa que leia 2 notas de alunos, calcule a média e imprima aprovado ou reprovado (para ser aprovado a média deve ser no mínimo 6)"
      ]
    },
    {
      "cell_type": "code",
      "metadata": {
        "id": "Gp7V2lDL785u",
        "colab_type": "code",
        "colab": {}
      },
      "source": [
        ""
      ],
      "execution_count": null,
      "outputs": []
    },
    {
      "cell_type": "markdown",
      "metadata": {
        "id": "a4PfUn3e79Im",
        "colab_type": "text"
      },
      "source": [
        "6)Refaça o ex5, identifique o conceito aprovado(média superior a 6), exame(média entre 4 e 6) ou reprovado(média inferior a 4)"
      ]
    },
    {
      "cell_type": "code",
      "metadata": {
        "id": "C3qhfBF18LtQ",
        "colab_type": "code",
        "colab": {}
      },
      "source": [
        ""
      ],
      "execution_count": null,
      "outputs": []
    },
    {
      "cell_type": "markdown",
      "metadata": {
        "id": "Isfaf_bY8L02",
        "colab_type": "text"
      },
      "source": [
        "7)Escreva um programa para encontrar a soma S=3+6+9+...+333."
      ]
    },
    {
      "cell_type": "code",
      "metadata": {
        "id": "2sEgGxor8WB7",
        "colab_type": "code",
        "colab": {}
      },
      "source": [
        ""
      ],
      "execution_count": null,
      "outputs": []
    },
    {
      "cell_type": "markdown",
      "metadata": {
        "id": "zZN9rA5n8WLW",
        "colab_type": "text"
      },
      "source": [
        "8)Escreva um programa que leia 10 notas e informe a média dos alunos."
      ]
    },
    {
      "cell_type": "code",
      "metadata": {
        "id": "7QBsTPBe8g7U",
        "colab_type": "code",
        "colab": {}
      },
      "source": [
        ""
      ],
      "execution_count": null,
      "outputs": []
    },
    {
      "cell_type": "markdown",
      "metadata": {
        "id": "sEr-tKm28hC0",
        "colab_type": "text"
      },
      "source": [
        "9)Escreva um programa que leia um número de 1 a 10, e mostre a tabuada desse número."
      ]
    },
    {
      "cell_type": "code",
      "metadata": {
        "id": "BaaxoMMX8paM",
        "colab_type": "code",
        "colab": {}
      },
      "source": [
        ""
      ],
      "execution_count": null,
      "outputs": []
    },
    {
      "cell_type": "markdown",
      "metadata": {
        "id": "x8W-4j8Xkx8Q",
        "colab_type": "text"
      },
      "source": [
        "# **Aula 2020_08_27**\n",
        "\n"
      ]
    },
    {
      "cell_type": "markdown",
      "metadata": {
        "id": "irFt6AXQ2SCY",
        "colab_type": "text"
      },
      "source": [
        "# Criar uma imagem digital "
      ]
    },
    {
      "cell_type": "code",
      "metadata": {
        "id": "9u2GiHVGmD7I",
        "colab_type": "code",
        "colab": {
          "base_uri": "https://localhost:8080/",
          "height": 34
        },
        "outputId": "457d52e8-b46f-4b1f-a261-c2fb59a09827"
      },
      "source": [
        "import cv2\n",
        "import numpy as np\n",
        "\n",
        "altura = 100\n",
        "largura = 100\n",
        "img = np.zeros ([altura,largura,3])\n",
        "\n",
        "for py in range(0,altura):\n",
        "  for px in range(0,largura):\n",
        "    img[py][px][0] = 0 #cor azul\n",
        "    img[py][px][1] = 255 #cor verde\n",
        "    img[py][px][2] = 0 #cor vermelho\n",
        "\n",
        "cv2.imwrite(\"color_img.png\",img)"
      ],
      "execution_count": null,
      "outputs": [
        {
          "output_type": "execute_result",
          "data": {
            "text/plain": [
              "True"
            ]
          },
          "metadata": {
            "tags": []
          },
          "execution_count": 10
        }
      ]
    },
    {
      "cell_type": "code",
      "metadata": {
        "id": "A8aG6Ek-BpHq",
        "colab_type": "code",
        "colab": {}
      },
      "source": [
        "Diagonal "
      ],
      "execution_count": null,
      "outputs": []
    },
    {
      "cell_type": "code",
      "metadata": {
        "id": "4jVue7IWoYLo",
        "colab_type": "code",
        "colab": {
          "base_uri": "https://localhost:8080/",
          "height": 34
        },
        "outputId": "28f2d626-9308-4349-8394-ae4cebe63eab"
      },
      "source": [
        "import cv2\n",
        "import numpy as np\n",
        "\n",
        "altura = 100\n",
        "largura = 100\n",
        "img = np.zeros ([altura,largura,3])\n",
        "\n",
        "for py in range(0,altura):\n",
        "  for px in range(0,largura):\n",
        "    if py==px:\n",
        "      img[py][px][0] = 0 #cor azul\n",
        "      img[py][px][1] = 0 #cor verde\n",
        "      img[py][px][2] = 0 #cor vermelho\n",
        "    else:\n",
        "      img[py][px][0] = 0 #cor azul\n",
        "      img[py][px][1] = 255 #cor verde\n",
        "      img[py][px][2] = 0 #cor vermelho\n",
        "\n",
        "cv2.imwrite(\"color_img.png\",img)"
      ],
      "execution_count": 11,
      "outputs": [
        {
          "output_type": "execute_result",
          "data": {
            "text/plain": [
              "True"
            ]
          },
          "metadata": {
            "tags": []
          },
          "execution_count": 11
        }
      ]
    },
    {
      "cell_type": "code",
      "metadata": {
        "id": "4q-E29LSqi9a",
        "colab_type": "code",
        "colab": {
          "base_uri": "https://localhost:8080/",
          "height": 34
        },
        "outputId": "7aad4357-e212-4590-a83d-c32fd680406c"
      },
      "source": [
        "import cv2\n",
        "import numpy as np\n",
        "\n",
        "altura = 10\n",
        "largura = 10\n",
        "img = np.zeros ([altura,largura,3])\n",
        "\n",
        "for py in range(0,altura):\n",
        "  for px in range(0,largura):\n",
        "    if py==px:\n",
        "      img[py][px][0] = 0 #cor azul\n",
        "      img[py][px][1] = 0 #cor verde\n",
        "      img[py][px][2] = 0 #cor vermelho\n",
        "    else:\n",
        "      img[py][px][0] = 0 #cor azul\n",
        "      img[py][px][1] = 255 #cor verde\n",
        "      img[py][px][2] = 0 #cor vermelho\n",
        "\n",
        "cv2.imwrite(\"color_img.png\",img)"
      ],
      "execution_count": null,
      "outputs": [
        {
          "output_type": "execute_result",
          "data": {
            "text/plain": [
              "True"
            ]
          },
          "metadata": {
            "tags": []
          },
          "execution_count": 1
        }
      ]
    },
    {
      "cell_type": "markdown",
      "metadata": {
        "id": "8SABfeajBcWs",
        "colab_type": "text"
      },
      "source": [
        "Quadrado\n"
      ]
    },
    {
      "cell_type": "code",
      "metadata": {
        "id": "F17nyZOwAVhA",
        "colab_type": "code",
        "colab": {
          "base_uri": "https://localhost:8080/",
          "height": 34
        },
        "outputId": "5d993686-b85e-4bea-9f04-4694e07c74d1"
      },
      "source": [
        "import cv2\n",
        "import numpy as np\n",
        "\n",
        "altura = 100\n",
        "largura = 100\n",
        "img = np.zeros ([altura,largura,3])\n",
        "\n",
        "for py in range(0,altura):\n",
        "  for px in range(0,largura):\n",
        "    if py>=20 and py<=80 and px>=20 and px<=80:\n",
        "      img[py][px][0] = 0 #cor azul\n",
        "      img[py][px][1] = 0 #cor verde\n",
        "      img[py][px][2] = 0 #cor vermelho\n",
        "    else:\n",
        "      img[py][px][0] = 255 #cor azul\n",
        "      img[py][px][1] = 0 #cor verde\n",
        "      img[py][px][2] = 0 #cor vermelho\n",
        "\n",
        "cv2.imwrite(\"color1_img.png\",img)"
      ],
      "execution_count": null,
      "outputs": [
        {
          "output_type": "execute_result",
          "data": {
            "text/plain": [
              "True"
            ]
          },
          "metadata": {
            "tags": []
          },
          "execution_count": 2
        }
      ]
    },
    {
      "cell_type": "markdown",
      "metadata": {
        "id": "B0R2kyFznhO8",
        "colab_type": "text"
      },
      "source": [
        "# Ler e Mostrar uma imagem de um arquivo "
      ]
    },
    {
      "cell_type": "code",
      "metadata": {
        "id": "DZZs60SRnk4K",
        "colab_type": "code",
        "colab": {
          "base_uri": "https://localhost:8080/",
          "height": 34
        },
        "outputId": "e1b53437-28db-4640-ba7a-a5e96c7b1cab"
      },
      "source": [
        "from IPython.display import Image\n",
        "\n",
        "filename=\"color_img.png\"\n",
        "\n",
        "display(Image(filename))"
      ],
      "execution_count": null,
      "outputs": [
        {
          "output_type": "display_data",
          "data": {
            "image/png": "[encoded data removed]",
            "text/plain": [
              "<IPython.core.display.Image object>"
            ]
          },
          "metadata": {
            "tags": []
          }
        }
      ]
    },
    {
      "cell_type": "code",
      "metadata": {
        "id": "VBt63DZLr3ZG",
        "colab_type": "code",
        "colab": {
          "base_uri": "https://localhost:8080/",
          "height": 1000
        },
        "outputId": "9b188185-bf57-45d5-de90-2e03d52dcb71"
      },
      "source": [
        "import cv2\n",
        "import numpy as np\n",
        "imagem = cv2.imread(\"color_img.png\")\n",
        "altura,largura,bytesPorPixel = np.shape(imagem)\n",
        "for index in range(3):\n",
        "  if index==0:\n",
        "    print(\"Azul\")\n",
        "  elif index==1:\n",
        "    print(\"verde\")\n",
        "  else: \n",
        "    print(\"vermelho\")\n",
        "  for py in range(0,altura):\n",
        "    for px in range(0,largura):\n",
        "      print(imagem[py][px][index],'\\t',end='')\n",
        "    print(\"\\n\")\n",
        "\n"
      ],
      "execution_count": null,
      "outputs": [
        {
          "output_type": "stream",
          "text": [
            "Azul\n",
            "0 \t0 \t0 \t0 \t0 \t0 \t0 \t0 \t0 \t0 \t\n",
            "\n",
            "0 \t0 \t0 \t0 \t0 \t0 \t0 \t0 \t0 \t0 \t\n",
            "\n",
            "0 \t0 \t0 \t0 \t0 \t0 \t0 \t0 \t0 \t0 \t\n",
            "\n",
            "0 \t0 \t0 \t0 \t0 \t0 \t0 \t0 \t0 \t0 \t\n",
            "\n",
            "0 \t0 \t0 \t0 \t0 \t0 \t0 \t0 \t0 \t0 \t\n",
            "\n",
            "0 \t0 \t0 \t0 \t0 \t0 \t0 \t0 \t0 \t0 \t\n",
            "\n",
            "0 \t0 \t0 \t0 \t0 \t0 \t0 \t0 \t0 \t0 \t\n",
            "\n",
            "0 \t0 \t0 \t0 \t0 \t0 \t0 \t0 \t0 \t0 \t\n",
            "\n",
            "0 \t0 \t0 \t0 \t0 \t0 \t0 \t0 \t0 \t0 \t\n",
            "\n",
            "0 \t0 \t0 \t0 \t0 \t0 \t0 \t0 \t0 \t0 \t\n",
            "\n",
            "verde\n",
            "0 \t255 \t255 \t255 \t255 \t255 \t255 \t255 \t255 \t255 \t\n",
            "\n",
            "255 \t0 \t255 \t255 \t255 \t255 \t255 \t255 \t255 \t255 \t\n",
            "\n",
            "255 \t255 \t0 \t255 \t255 \t255 \t255 \t255 \t255 \t255 \t\n",
            "\n",
            "255 \t255 \t255 \t0 \t255 \t255 \t255 \t255 \t255 \t255 \t\n",
            "\n",
            "255 \t255 \t255 \t255 \t0 \t255 \t255 \t255 \t255 \t255 \t\n",
            "\n",
            "255 \t255 \t255 \t255 \t255 \t0 \t255 \t255 \t255 \t255 \t\n",
            "\n",
            "255 \t255 \t255 \t255 \t255 \t255 \t0 \t255 \t255 \t255 \t\n",
            "\n",
            "255 \t255 \t255 \t255 \t255 \t255 \t255 \t0 \t255 \t255 \t\n",
            "\n",
            "255 \t255 \t255 \t255 \t255 \t255 \t255 \t255 \t0 \t255 \t\n",
            "\n",
            "255 \t255 \t255 \t255 \t255 \t255 \t255 \t255 \t255 \t0 \t\n",
            "\n",
            "vermelho\n",
            "0 \t0 \t0 \t0 \t0 \t0 \t0 \t0 \t0 \t0 \t\n",
            "\n",
            "0 \t0 \t0 \t0 \t0 \t0 \t0 \t0 \t0 \t0 \t\n",
            "\n",
            "0 \t0 \t0 \t0 \t0 \t0 \t0 \t0 \t0 \t0 \t\n",
            "\n",
            "0 \t0 \t0 \t0 \t0 \t0 \t0 \t0 \t0 \t0 \t\n",
            "\n",
            "0 \t0 \t0 \t0 \t0 \t0 \t0 \t0 \t0 \t0 \t\n",
            "\n",
            "0 \t0 \t0 \t0 \t0 \t0 \t0 \t0 \t0 \t0 \t\n",
            "\n",
            "0 \t0 \t0 \t0 \t0 \t0 \t0 \t0 \t0 \t0 \t\n",
            "\n",
            "0 \t0 \t0 \t0 \t0 \t0 \t0 \t0 \t0 \t0 \t\n",
            "\n",
            "0 \t0 \t0 \t0 \t0 \t0 \t0 \t0 \t0 \t0 \t\n",
            "\n",
            "0 \t0 \t0 \t0 \t0 \t0 \t0 \t0 \t0 \t0 \t\n",
            "\n"
          ],
          "name": "stdout"
        }
      ]
    },
    {
      "cell_type": "code",
      "metadata": {
        "id": "gieu5zZ743cP",
        "colab_type": "code",
        "colab": {
          "base_uri": "https://localhost:8080/",
          "height": 126
        },
        "outputId": "6f10216a-1b84-471d-992a-4a8c71742d0b"
      },
      "source": [
        "from IPython.display import Image\n",
        "\n",
        "filename=\"anel_1.png\"\n",
        "\n",
        "display(Image(filename))"
      ],
      "execution_count": 3,
      "outputs": [
        {
          "output_type": "display_data",
          "data": {
            "image/png": "[encoded data removed]",
            "text/plain": [
              "<IPython.core.display.Image object>"
            ]
          },
          "metadata": {
            "tags": []
          }
        }
      ]
    },
    {
      "cell_type": "code",
      "metadata": {
        "id": "OnvdhRVq5aw_",
        "colab_type": "code",
        "colab": {}
      },
      "source": [
        "import cv2\n",
        "import numpy as np\n",
        "imagem = cv2.imread(\"anel_1.png\")\n",
        "altura,largura,bytesPorPixel = np.shape(imagem)\n",
        "for index in range(3):\n",
        "  if index==0:\n",
        "    print(\"Azul\")\n",
        "  elif index==1:\n",
        "    print(\"verde\")\n",
        "  else: \n",
        "    print(\"vermelho\")\n",
        "  for py in range(0,altura):\n",
        "    for px in range(0,largura):\n",
        "      print(imagem[py][px][index],'\\t',end='')\n",
        "    print(\"\\n\")"
      ],
      "execution_count": null,
      "outputs": []
    },
    {
      "cell_type": "markdown",
      "metadata": {
        "id": "atiqY0NghuXj",
        "colab_type": "text"
      },
      "source": [
        "# **Aula 2020_09_03**"
      ]
    },
    {
      "cell_type": "markdown",
      "metadata": {
        "id": "5kq9lOlun1QY",
        "colab_type": "text"
      },
      "source": [
        "# Histograma"
      ]
    },
    {
      "cell_type": "code",
      "metadata": {
        "id": "OUoRZsSFn2WP",
        "colab_type": "code",
        "colab": {
          "base_uri": "https://localhost:8080/",
          "height": 265
        },
        "outputId": "6a3e96f0-e7b6-4bfe-e978-8a1e53256d42"
      },
      "source": [
        "import cv2\n",
        "import matplotlib.pylab as plt\n",
        "\n",
        "imagem = cv2.imread('color_img.png')\n",
        "plt.hist(imagem.ravel(),bins=256, range=[0,256])\n",
        "plt.show()"
      ],
      "execution_count": 12,
      "outputs": [
        {
          "output_type": "display_data",
          "data": {
            "image/png": "[encoded data removed]",
            "text/plain": [
              "<Figure size 432x288 with 1 Axes>"
            ]
          },
          "metadata": {
            "tags": [],
            "needs_background": "light"
          }
        }
      ]
    }
  ]
}